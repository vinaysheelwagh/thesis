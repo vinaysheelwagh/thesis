{
  "nbformat": 4,
  "nbformat_minor": 0,
  "metadata": {
    "colab": {
      "name": "VGG19.ipynb",
      "provenance": [],
      "collapsed_sections": []
    },
    "kernelspec": {
      "name": "python3",
      "display_name": "Python 3"
    },
    "accelerator": "GPU"
  },
  "cells": [
    {
      "cell_type": "code",
      "metadata": {
        "id": "Akq47pDA-O2O",
        "colab_type": "code",
        "colab": {
          "base_uri": "https://localhost:8080/",
          "height": 125
        },
        "outputId": "812f11a5-4de1-4f37-da32-8a36981bbbc5"
      },
      "source": [
        "from google.colab import drive\n",
        "drive.mount('/content/drive')"
      ],
      "execution_count": null,
      "outputs": [
        {
          "output_type": "stream",
          "text": [
            "Go to this URL in a browser: https://accounts.google.com/o/oauth2/auth?client_id=947318989803-6bn6qk8qdgf4n4g3pfee6491hc0brc4i.apps.googleusercontent.com&redirect_uri=urn%3aietf%3awg%3aoauth%3a2.0%3aoob&response_type=code&scope=email%20https%3a%2f%2fwww.googleapis.com%2fauth%2fdocs.test%20https%3a%2f%2fwww.googleapis.com%2fauth%2fdrive%20https%3a%2f%2fwww.googleapis.com%2fauth%2fdrive.photos.readonly%20https%3a%2f%2fwww.googleapis.com%2fauth%2fpeopleapi.readonly\n",
            "\n",
            "Enter your authorization code:\n",
            "··········\n",
            "Mounted at /content/drive\n"
          ],
          "name": "stdout"
        }
      ]
    },
    {
      "cell_type": "code",
      "metadata": {
        "id": "R0gV5j13-SbK",
        "colab_type": "code",
        "colab": {}
      },
      "source": [
        "%cd /content/drive/My Drive/xview\n",
        "!pip install numpy tensorflow-gpu\n",
        "!pip install -r requirements.txt"
      ],
      "execution_count": null,
      "outputs": []
    },
    {
      "cell_type": "code",
      "metadata": {
        "id": "OZc-0-Z7-XAe",
        "colab_type": "code",
        "colab": {
          "base_uri": "https://localhost:8080/",
          "height": 389
        },
        "outputId": "05d34fd8-a2a6-4cd4-b287-6e89d7c9bffd"
      },
      "source": [
        "#!pip list\n",
        "#!pip uninstall cupy\n",
        "!pip uninstall cupy-cuda101\n",
        "!pip install 'cupy>=7.4.0,<8.0.0'"
      ],
      "execution_count": null,
      "outputs": [
        {
          "output_type": "stream",
          "text": [
            "Uninstalling cupy-cuda101-7.4.0:\n",
            "  Would remove:\n",
            "    /usr/local/lib/python3.6/dist-packages/cupy/*\n",
            "    /usr/local/lib/python3.6/dist-packages/cupy_cuda101-7.4.0.dist-info/*\n",
            "    /usr/local/lib/python3.6/dist-packages/cupyx/*\n",
            "Proceed (y/n)? y\n",
            "  Successfully uninstalled cupy-cuda101-7.4.0\n",
            "Collecting cupy<8.0.0,>=7.4.0\n",
            "\u001b[?25l  Downloading https://files.pythonhosted.org/packages/5e/51/f75229a8bd27a8b1237674a887321e1a0cbf52272866c9d5444042abb875/cupy-7.7.0.tar.gz (3.7MB)\n",
            "\u001b[K     |████████████████████████████████| 3.7MB 2.7MB/s \n",
            "\u001b[?25hRequirement already satisfied: numpy>=1.9.0 in /usr/local/lib/python3.6/dist-packages (from cupy<8.0.0,>=7.4.0) (1.18.5)\n",
            "Requirement already satisfied: six>=1.9.0 in /usr/local/lib/python3.6/dist-packages (from cupy<8.0.0,>=7.4.0) (1.15.0)\n",
            "Requirement already satisfied: fastrlock>=0.3 in /usr/local/lib/python3.6/dist-packages (from cupy<8.0.0,>=7.4.0) (0.5)\n",
            "Building wheels for collected packages: cupy\n",
            "  Building wheel for cupy (setup.py) ... \u001b[?25l\u001b[?25hdone\n",
            "  Created wheel for cupy: filename=cupy-7.7.0-cp36-cp36m-linux_x86_64.whl size=33271926 sha256=244e925f1d5eb177a3629eb1a429a210e73422e95b05bc0af4c1fe0cc2e0621e\n",
            "  Stored in directory: /root/.cache/pip/wheels/c9/f6/ef/9cb72172a8f7efe4f4a39aeb011202fc80377ec12b3903022d\n",
            "Successfully built cupy\n",
            "Installing collected packages: cupy\n",
            "Successfully installed cupy-7.7.0\n"
          ],
          "name": "stdout"
        }
      ]
    },
    {
      "cell_type": "code",
      "metadata": {
        "id": "qPG1RFKn-pWt",
        "colab_type": "code",
        "colab": {
          "base_uri": "https://localhost:8080/",
          "height": 34
        },
        "outputId": "f01ea779-85e0-4113-8d2d-e469a9476e96"
      },
      "source": [
        "%cd /content/drive/My Drive/xview/model/\n",
        "%mkdir /content/sample_data/output\n",
        "%mkdir /content/sample_data/output/process_images\n",
        "%mkdir /content/sample_data/output/csv"
      ],
      "execution_count": null,
      "outputs": [
        {
          "output_type": "stream",
          "text": [
            "/content/drive/My Drive/xview/model\n"
          ],
          "name": "stdout"
        }
      ]
    },
    {
      "cell_type": "code",
      "metadata": {
        "id": "qvZAtDdu-4Ob",
        "colab_type": "code",
        "colab": {
          "base_uri": "https://localhost:8080/",
          "height": 70
        },
        "outputId": "8ca7a845-00c5-4e88-9e3f-1c4717fc9e8a"
      },
      "source": [
        "!python process_data.py --input_dir \"/content/drive/My Drive/xview/xBD\"  --output_dir \"/content/sample_data/output/process_images\" --output_dir_csv \"/content/sample_data/output/csv\" --val_split_pct 0.1"
      ],
      "execution_count": null,
      "outputs": [
        {
          "output_type": "stream",
          "text": [
            "INFO:root:Started Processing for Data\n",
            "100% 5598/5598 [2:36:22<00:00,  1.68s/it]\n",
            "INFO:root:Finished Processing Data\n"
          ],
          "name": "stdout"
        }
      ]
    },
    {
      "cell_type": "code",
      "metadata": {
        "id": "fMFoLoOi5hD4",
        "colab_type": "code",
        "colab": {}
      },
      "source": [
        "from PIL import Image\n",
        "import time\n",
        "import numpy as np\n",
        "import pandas as pd\n",
        "from tqdm import tqdm\n",
        "import os\n",
        "import math\n",
        "import random\n",
        "import argparse\n",
        "import logging\n",
        "import json\n",
        "import cv2\n",
        "import datetime\n",
        "\n",
        "from sklearn.metrics import f1_score\n",
        "from sklearn.utils.class_weight import compute_class_weight\n",
        "import shapely.wkt\n",
        "import shapely\n",
        "from shapely.geometry import Polygon\n",
        "from collections import defaultdict\n",
        "\n",
        "import tensorflow as tf\n",
        "import keras\n",
        "import ast\n",
        "from keras import Sequential\n",
        "from keras.layers import Conv2D, MaxPooling2D, Dense, Flatten, Add, Input, Concatenate\n",
        "from keras.models import Model\n",
        "from keras.applications.vgg19 import VGG19\n",
        "from keras import backend as K"
      ],
      "execution_count": null,
      "outputs": []
    },
    {
      "cell_type": "code",
      "metadata": {
        "id": "IF8JH8XB5qVf",
        "colab_type": "code",
        "colab": {}
      },
      "source": [
        "def ordinal_loss(y_true, y_pred):\n",
        "    weights = K.cast(K.abs(K.argmax(y_true, axis=1) - K.argmax(y_pred, axis=1))/(K.int_shape(y_pred)[1] - 1), dtype='float32')\n",
        "    return (1.0 + weights) * keras.losses.categorical_crossentropy(y_true, y_pred )"
      ],
      "execution_count": null,
      "outputs": []
    },
    {
      "cell_type": "code",
      "metadata": {
        "id": "VoJDjINF5v9C",
        "colab_type": "code",
        "colab": {}
      },
      "source": [
        "def generate_vgg19_model():\n",
        "  weights = 'imagenet'\n",
        "  inputs = Input(shape=(128, 128, 3))\n",
        "\n",
        "  base_model = VGG19(include_top=False, weights=weights, input_shape=(128, 128, 3))\n",
        "\n",
        "  for layer in base_model.layers:\n",
        "    layer.trainable = False\n",
        "\n",
        "  x = Conv2D(32, (5, 5), strides=(1, 1), padding='same', activation='relu', input_shape=(128, 128, 3))(inputs)\n",
        "  x = MaxPooling2D(pool_size=(2, 2), strides=None, padding='valid', data_format=None)(x)\n",
        "\n",
        "  x = Conv2D(64, (3, 3), strides=(1, 1), padding='same', activation='relu')(x)\n",
        "  x = MaxPooling2D(pool_size=(2, 2), strides=None, padding='valid', data_format=None)(x)\n",
        "\n",
        "  x = Conv2D(64, (3, 3), strides=(1, 1), padding='same', activation='relu')(x)\n",
        "  x = MaxPooling2D(pool_size=(2, 2), strides=None, padding='valid', data_format=None)(x)\n",
        "\n",
        "  x = Flatten()(x)\n",
        "\n",
        "  base_resnet = base_model(inputs)\n",
        "  base_resnet = Flatten()(base_resnet)\n",
        "\n",
        "  concated_layers = Concatenate()([x, base_resnet])\n",
        "\n",
        "  concated_layers = Dense(2024, activation='relu')(concated_layers)\n",
        "  concated_layers = Dense(524, activation='relu')(concated_layers)\n",
        "  concated_layers = Dense(124, activation='relu')(concated_layers)\n",
        "  output = Dense(4, activation='relu')(concated_layers)\n",
        "\n",
        "  model = Model(inputs=inputs, outputs=output)\n",
        "  return model"
      ],
      "execution_count": null,
      "outputs": []
    },
    {
      "cell_type": "code",
      "metadata": {
        "id": "XLhCrhVv52tR",
        "colab_type": "code",
        "colab": {}
      },
      "source": [
        "from PIL import Image\n",
        "import time\n",
        "import numpy as np\n",
        "import pandas as pd\n",
        "from tqdm import tqdm\n",
        "import os\n",
        "import math\n",
        "import random\n",
        "import argparse\n",
        "import logging\n",
        "import json\n",
        "import cv2\n",
        "import datetime\n",
        "\n",
        "from sklearn.metrics import f1_score\n",
        "from sklearn.utils.class_weight import compute_class_weight\n",
        "import shapely.wkt\n",
        "import shapely\n",
        "from shapely.geometry import Polygon\n",
        "from collections import defaultdict\n",
        "\n",
        "import tensorflow as tf\n",
        "import keras\n",
        "import ast\n",
        "from keras import Sequential\n",
        "from keras.layers import Conv2D, MaxPooling2D, Dense, Flatten, Add, Input, Concatenate\n",
        "from keras.models import Model\n",
        "from keras.applications.vgg19 import VGG19\n",
        "from keras import backend as K"
      ],
      "execution_count": null,
      "outputs": []
    },
    {
      "cell_type": "code",
      "metadata": {
        "id": "N-azISpN6B35",
        "colab_type": "code",
        "colab": {}
      },
      "source": [
        "logging.basicConfig(level=logging.INFO)\n",
        "\n",
        "# Configurations\n",
        "NUM_WORKERS = 4 \n",
        "NUM_CLASSES = 4\n",
        "BATCH_SIZE = 64\n",
        "NUM_EPOCHS = 40 \n",
        "LEARNING_RATE = 0.0001\n",
        "RANDOM_SEED = 123\n",
        "LOG_STEP = 150\n",
        "LOG_DIR = '/path/to/logs' + datetime.datetime.now().strftime(\"%Y%m%d-%H%M%S\")\n",
        "\n",
        "damage_intensity_encoding = dict()\n",
        "damage_intensity_encoding[3] = '3'\n",
        "damage_intensity_encoding[2] = '2' \n",
        "damage_intensity_encoding[1] = '1' \n",
        "damage_intensity_encoding[0] = '0' \n"
      ],
      "execution_count": null,
      "outputs": []
    },
    {
      "cell_type": "code",
      "metadata": {
        "id": "Lhh4q2-96FQR",
        "colab_type": "code",
        "colab": {}
      },
      "source": [
        "def recall(y_true, y_pred):\n",
        "    \"\"\"Recall metric.\n",
        "\n",
        "    Only computes a batch-wise average of recall.\n",
        "\n",
        "    Computes the recall, a metric for multi-label classification of\n",
        "    how many relevant items are selected.\n",
        "    \"\"\"\n",
        "    true_positives = K.sum(K.round(K.clip(y_true * y_pred, 0, 1)))\n",
        "    possible_positives = K.sum(K.round(K.clip(y_true, 0, 1)))\n",
        "    recall = true_positives / (possible_positives + K.epsilon())\n",
        "    return recall\n",
        "\n",
        "def precision(y_true, y_pred):\n",
        "    \"\"\"Precision metric.\n",
        "\n",
        "    Only computes a batch-wise average of precision.\n",
        "\n",
        "    Computes the precision, a metric for multi-label classification of\n",
        "    how many selected items are relevant.\n",
        "    \"\"\"\n",
        "    true_positives = K.sum(K.round(K.clip(y_true * y_pred, 0, 1)))\n",
        "    predicted_positives = K.sum(K.round(K.clip(y_pred, 0, 1)))\n",
        "    precision = true_positives / (predicted_positives + K.epsilon())\n",
        "    return precision\n"
      ],
      "execution_count": null,
      "outputs": []
    },
    {
      "cell_type": "code",
      "metadata": {
        "id": "PrTk58ZN6J3D",
        "colab_type": "code",
        "colab": {}
      },
      "source": [
        "def validation_generator(test_csv, test_dir):\n",
        "    df = pd.read_csv(test_csv)\n",
        "    df = df.replace({\"labels\" : damage_intensity_encoding })\n",
        "\n",
        "    gen = keras.preprocessing.image.ImageDataGenerator(\n",
        "                             rescale=1/255.)\n",
        "\n",
        "\n",
        "    return gen.flow_from_dataframe(dataframe=df,\n",
        "                                   directory=test_dir,\n",
        "                                   x_col='uuid',\n",
        "                                   y_col='labels',\n",
        "                                   batch_size=BATCH_SIZE,\n",
        "                                   shuffle=False,\n",
        "                                   seed=RANDOM_SEED,\n",
        "                                   class_mode=\"categorical\",\n",
        "                                   target_size=(128, 128))\n"
      ],
      "execution_count": null,
      "outputs": []
    },
    {
      "cell_type": "code",
      "metadata": {
        "id": "rPeKxY2u6K1x",
        "colab_type": "code",
        "colab": {}
      },
      "source": [
        "def augment_data(df, in_dir):\n",
        "\n",
        "    df = df.replace({\"labels\" : damage_intensity_encoding })\n",
        "    gen = keras.preprocessing.image.ImageDataGenerator(horizontal_flip=True,\n",
        "                             vertical_flip=True,\n",
        "                             width_shift_range=0.1,\n",
        "                             height_shift_range=0.1,\n",
        "                             rescale=1/255.)\n",
        "    return gen.flow_from_dataframe(dataframe=df,\n",
        "                                   directory=in_dir,\n",
        "                                   x_col='uuid',\n",
        "                                   y_col='labels',\n",
        "                                   batch_size=BATCH_SIZE,\n",
        "                                   seed=RANDOM_SEED,\n",
        "                                   class_mode=\"categorical\",\n",
        "                                   target_size=(128, 128))"
      ],
      "execution_count": null,
      "outputs": []
    },
    {
      "cell_type": "code",
      "metadata": {
        "id": "Jxpj8Vq_6QtF",
        "colab_type": "code",
        "colab": {}
      },
      "source": [
        "def train_model(train_data, train_csv, test_data, test_csv, model_in, model_out):\n",
        "\n",
        "    model = generate_vgg19_model()\n",
        "\n",
        "    # Add model weights if provided by user\n",
        "    if model_in is not None:\n",
        "        model.load_weights(model_in)\n",
        "\n",
        "    df = pd.read_csv(train_csv)\n",
        "    class_weights = compute_class_weight('balanced', np.unique(df['labels'].to_list()), df['labels'].to_list());\n",
        "    d_class_weights = dict(enumerate(class_weights))\n",
        "\n",
        "    samples = df['uuid'].count()\n",
        "    steps = np.ceil(samples/BATCH_SIZE)\n",
        "\n",
        "    # Augments the training data\n",
        "    train_gen_flow = augment_data(df, train_data)\n",
        "\n",
        "    #Set up tensorboard logging\n",
        "    tensorboard_callbacks = keras.callbacks.TensorBoard(log_dir=LOG_DIR,\n",
        "                                                        batch_size=BATCH_SIZE)\n",
        "\n",
        "    \n",
        "    #Filepath to save model weights\n",
        "    filepath = model_out + \"-saved-model-{epoch:02d}-{accuracy:.2f}.hdf5\"\n",
        "    checkpoints = keras.callbacks.ModelCheckpoint(filepath,\n",
        "                                                    monitor='accuracy',\n",
        "                                                    verbose=1,\n",
        "                                                    mode='max',\n",
        "                                                    save_best_only=True)\n",
        "\n",
        "    #Adds adam optimizer\n",
        "    adam = keras.optimizers.Adam(lr=LEARNING_RATE,\n",
        "                                    beta_1=0.9,\n",
        "                                    beta_2=0.999,\n",
        "                                    decay=0.0,\n",
        "                                    amsgrad=False)\n",
        "\n",
        "\n",
        "    model.compile(loss=ordinal_loss, optimizer=adam, metrics=['accuracy', f1])\n",
        "\n",
        "    #Training begins\n",
        "    model.fit_generator(generator=train_gen_flow,\n",
        "                        steps_per_epoch=steps,\n",
        "                        epochs=NUM_EPOCHS,\n",
        "                        workers=NUM_WORKERS,\n",
        "                        use_multiprocessing=True,\n",
        "                        class_weight=d_class_weights,\n",
        "                        callbacks=[tensorboard_callbacks, checkpoints],\n",
        "                        verbose=1)\n",
        "\n",
        "\n",
        "    #Evalulate f1 weighted scores on validation set\n",
        "    validation_gen = validation_generator(test_csv, test_data)\n",
        "    predictions = model.predict(validation_gen)\n",
        "\n",
        "    val_trues = validation_gen.classes\n",
        "    val_pred = np.argmax(predictions, axis=-1)\n",
        "\t\n",
        "    precision = precision(y_true, y_pred)\n",
        "    print('precision: {}').format(precision)\n",
        "    recall = recall(y_true, y_pred)\n",
        "    print('recall: {}').format(recall)\n",
        "    f1_weighted = 2*((precision*recall)/(precision+recall+K.epsilon()))\n",
        "    \n",
        "    print(f1_weighted)\n"
      ],
      "execution_count": null,
      "outputs": []
    },
    {
      "cell_type": "code",
      "metadata": {
        "id": "SFgQntFDIxay",
        "colab_type": "code",
        "colab": {
          "base_uri": "https://localhost:8080/",
          "height": 34
        },
        "outputId": "c098e92a-cb0c-43d0-c272-d6a98f2a2786"
      },
      "source": [
        "!nvidia-smi -L"
      ],
      "execution_count": null,
      "outputs": [
        {
          "output_type": "stream",
          "text": [
            "GPU 0: Tesla K80 (UUID: GPU-ca07a89c-5d1a-f1da-3f43-4d5b14ecf1a8)\n"
          ],
          "name": "stdout"
        }
      ]
    },
    {
      "cell_type": "code",
      "metadata": {
        "id": "waFGRdjfyyIO",
        "colab_type": "code",
        "colab": {}
      },
      "source": [
        "def f1(y_true, y_pred):\n",
        "    def recall(y_true, y_pred):\n",
        "        \"\"\"Recall metric.\n",
        "\n",
        "        Only computes a batch-wise average of recall.\n",
        "\n",
        "        Computes the recall, a metric for multi-label classification of\n",
        "        how many relevant items are selected.\n",
        "        \"\"\"\n",
        "        true_positives = K.sum(K.round(K.clip(y_true * y_pred, 0, 1)))\n",
        "        possible_positives = K.sum(K.round(K.clip(y_true, 0, 1)))\n",
        "        recall = true_positives / (possible_positives + K.epsilon())\n",
        "        return recall\n",
        "\n",
        "    def precision(y_true, y_pred):\n",
        "        \"\"\"Precision metric.\n",
        "\n",
        "        Only computes a batch-wise average of precision.\n",
        "\n",
        "        Computes the precision, a metric for multi-label classification of\n",
        "        how many selected items are relevant.\n",
        "        \"\"\"\n",
        "        true_positives = K.sum(K.round(K.clip(y_true * y_pred, 0, 1)))\n",
        "        predicted_positives = K.sum(K.round(K.clip(y_pred, 0, 1)))\n",
        "        precision = true_positives / (predicted_positives + K.epsilon())\n",
        "        return precision\n",
        "\n",
        "\n",
        "    precision = precision(y_true, y_pred)\n",
        "    recall = recall(y_true, y_pred)\n",
        "    return 2*((precision*recall)/(precision+recall+K.epsilon()))"
      ],
      "execution_count": null,
      "outputs": []
    },
    {
      "cell_type": "code",
      "metadata": {
        "id": "JsWg_zFY6Sgd",
        "colab_type": "code",
        "colab": {
          "base_uri": "https://localhost:8080/",
          "height": 1000
        },
        "outputId": "db2d4184-a6fc-40e6-c975-64d37d8b65ba"
      },
      "source": [
        "train_model(\"/content/sample_data/output/process_images\", \"/content/sample_data/output/csv/train.csv\", \"/content/sample_data/output/process_images\", \"/content/sample_data/output/csv/test.csv\", None, \"/content/drive/My Drive/xview/baseline_model_vgg19/\")"
      ],
      "execution_count": null,
      "outputs": [
        {
          "output_type": "stream",
          "text": [
            "Downloading data from https://storage.googleapis.com/tensorflow/keras-applications/vgg19/vgg19_weights_tf_dim_ordering_tf_kernels_notop.h5\n",
            "80142336/80134624 [==============================] - 2s 0us/step\n",
            "Found 146508 validated image filenames belonging to 4 classes.\n",
            "WARNING:tensorflow:`batch_size` is no longer needed in the `TensorBoard` Callback and will be ignored in TensorFlow 2.0.\n"
          ],
          "name": "stdout"
        },
        {
          "output_type": "stream",
          "text": [
            "WARNING:tensorflow:`batch_size` is no longer needed in the `TensorBoard` Callback and will be ignored in TensorFlow 2.0.\n"
          ],
          "name": "stderr"
        },
        {
          "output_type": "stream",
          "text": [
            "WARNING:tensorflow:From <ipython-input-15-f434c5fcbac9>:50: Model.fit_generator (from tensorflow.python.keras.engine.training) is deprecated and will be removed in a future version.\n",
            "Instructions for updating:\n",
            "Please use Model.fit, which supports generators.\n"
          ],
          "name": "stdout"
        },
        {
          "output_type": "stream",
          "text": [
            "WARNING:tensorflow:From <ipython-input-15-f434c5fcbac9>:50: Model.fit_generator (from tensorflow.python.keras.engine.training) is deprecated and will be removed in a future version.\n",
            "Instructions for updating:\n",
            "Please use Model.fit, which supports generators.\n"
          ],
          "name": "stderr"
        },
        {
          "output_type": "stream",
          "text": [
            "Epoch 1/40\n",
            "WARNING:tensorflow:multiprocessing can interact badly with TensorFlow, causing nondeterministic deadlocks. For high performance data pipelines tf.data is recommended.\n"
          ],
          "name": "stdout"
        },
        {
          "output_type": "stream",
          "text": [
            "WARNING:tensorflow:multiprocessing can interact badly with TensorFlow, causing nondeterministic deadlocks. For high performance data pipelines tf.data is recommended.\n"
          ],
          "name": "stderr"
        },
        {
          "output_type": "stream",
          "text": [
            "\r   1/2290 [..............................] - ETA: 18s - loss: 8.2098 - accuracy: 0.0625 - f1: 0.1136WARNING:tensorflow:From /usr/local/lib/python3.6/dist-packages/tensorflow/python/ops/summary_ops_v2.py:1277: stop (from tensorflow.python.eager.profiler) is deprecated and will be removed after 2020-07-01.\n",
            "Instructions for updating:\n",
            "use `tf.profiler.experimental.stop` instead.\n"
          ],
          "name": "stdout"
        },
        {
          "output_type": "stream",
          "text": [
            "WARNING:tensorflow:From /usr/local/lib/python3.6/dist-packages/tensorflow/python/ops/summary_ops_v2.py:1277: stop (from tensorflow.python.eager.profiler) is deprecated and will be removed after 2020-07-01.\n",
            "Instructions for updating:\n",
            "use `tf.profiler.experimental.stop` instead.\n"
          ],
          "name": "stderr"
        },
        {
          "output_type": "stream",
          "text": [
            "2289/2290 [============================>.] - ETA: 0s - loss: 6.6782 - accuracy: 0.4810 - f1: 0.4645WARNING:tensorflow:multiprocessing can interact badly with TensorFlow, causing nondeterministic deadlocks. For high performance data pipelines tf.data is recommended.\n"
          ],
          "name": "stdout"
        },
        {
          "output_type": "stream",
          "text": [
            "WARNING:tensorflow:multiprocessing can interact badly with TensorFlow, causing nondeterministic deadlocks. For high performance data pipelines tf.data is recommended.\n"
          ],
          "name": "stderr"
        },
        {
          "output_type": "stream",
          "text": [
            "\b\b\b\b\b\b\b\b\b\b\b\b\b\b\b\b\b\b\b\b\b\b\b\b\b\b\b\b\b\b\b\b\b\b\b\b\b\b\b\b\b\b\b\b\b\b\b\b\b\b\b\b\b\b\b\b\b\b\b\b\b\b\b\b\b\b\b\b\b\b\b\b\b\b\b\b\b\b\b\b\b\b\b\b\b\b\b\b\b\b\b\b\b\b\b\b\b\b\b\r2290/2290 [==============================] - ETA: 0s - loss: 6.6779 - accuracy: 0.4810 - f1: 0.4645\n",
            "Epoch 00001: accuracy improved from -inf to 0.48102, saving model to /content/drive/My Drive/xview/baseline_model_vgg19/-saved-model-01-0.48.hdf5\n",
            "2290/2290 [==============================] - 789s 345ms/step - loss: 6.6779 - accuracy: 0.4810 - f1: 0.4645\n",
            "Epoch 2/40\n",
            "WARNING:tensorflow:multiprocessing can interact badly with TensorFlow, causing nondeterministic deadlocks. For high performance data pipelines tf.data is recommended.\n"
          ],
          "name": "stdout"
        },
        {
          "output_type": "stream",
          "text": [
            "WARNING:tensorflow:multiprocessing can interact badly with TensorFlow, causing nondeterministic deadlocks. For high performance data pipelines tf.data is recommended.\n"
          ],
          "name": "stderr"
        },
        {
          "output_type": "stream",
          "text": [
            "2289/2290 [============================>.] - ETA: 0s - loss: 6.5615 - accuracy: 0.5227 - f1: 0.4715WARNING:tensorflow:multiprocessing can interact badly with TensorFlow, causing nondeterministic deadlocks. For high performance data pipelines tf.data is recommended.\n"
          ],
          "name": "stdout"
        },
        {
          "output_type": "stream",
          "text": [
            "WARNING:tensorflow:multiprocessing can interact badly with TensorFlow, causing nondeterministic deadlocks. For high performance data pipelines tf.data is recommended.\n"
          ],
          "name": "stderr"
        },
        {
          "output_type": "stream",
          "text": [
            "\b\b\b\b\b\b\b\b\b\b\b\b\b\b\b\b\b\b\b\b\b\b\b\b\b\b\b\b\b\b\b\b\b\b\b\b\b\b\b\b\b\b\b\b\b\b\b\b\b\b\b\b\b\b\b\b\b\b\b\b\b\b\b\b\b\b\b\b\b\b\b\b\b\b\b\b\b\b\b\b\b\b\b\b\b\b\b\b\b\b\b\b\b\b\b\b\b\b\b\r2290/2290 [==============================] - ETA: 0s - loss: 6.5614 - accuracy: 0.5227 - f1: 0.4715\n",
            "Epoch 00002: accuracy improved from 0.48102 to 0.52272, saving model to /content/drive/My Drive/xview/baseline_model_vgg19/-saved-model-02-0.52.hdf5\n",
            "2290/2290 [==============================] - 788s 344ms/step - loss: 6.5614 - accuracy: 0.5227 - f1: 0.4715\n",
            "Epoch 3/40\n",
            "WARNING:tensorflow:multiprocessing can interact badly with TensorFlow, causing nondeterministic deadlocks. For high performance data pipelines tf.data is recommended.\n"
          ],
          "name": "stdout"
        },
        {
          "output_type": "stream",
          "text": [
            "WARNING:tensorflow:multiprocessing can interact badly with TensorFlow, causing nondeterministic deadlocks. For high performance data pipelines tf.data is recommended.\n"
          ],
          "name": "stderr"
        },
        {
          "output_type": "stream",
          "text": [
            "2289/2290 [============================>.] - ETA: 0s - loss: 6.5232 - accuracy: 0.5378 - f1: 0.4673WARNING:tensorflow:multiprocessing can interact badly with TensorFlow, causing nondeterministic deadlocks. For high performance data pipelines tf.data is recommended.\n"
          ],
          "name": "stdout"
        },
        {
          "output_type": "stream",
          "text": [
            "WARNING:tensorflow:multiprocessing can interact badly with TensorFlow, causing nondeterministic deadlocks. For high performance data pipelines tf.data is recommended.\n"
          ],
          "name": "stderr"
        },
        {
          "output_type": "stream",
          "text": [
            "\b\b\b\b\b\b\b\b\b\b\b\b\b\b\b\b\b\b\b\b\b\b\b\b\b\b\b\b\b\b\b\b\b\b\b\b\b\b\b\b\b\b\b\b\b\b\b\b\b\b\b\b\b\b\b\b\b\b\b\b\b\b\b\b\b\b\b\b\b\b\b\b\b\b\b\b\b\b\b\b\b\b\b\b\b\b\b\b\b\b\b\b\b\b\b\b\b\b\b\r2290/2290 [==============================] - ETA: 0s - loss: 6.5243 - accuracy: 0.5378 - f1: 0.4673\n",
            "Epoch 00003: accuracy improved from 0.52272 to 0.53782, saving model to /content/drive/My Drive/xview/baseline_model_vgg19/-saved-model-03-0.54.hdf5\n",
            "2290/2290 [==============================] - 790s 345ms/step - loss: 6.5243 - accuracy: 0.5378 - f1: 0.4673\n",
            "Epoch 4/40\n",
            "WARNING:tensorflow:multiprocessing can interact badly with TensorFlow, causing nondeterministic deadlocks. For high performance data pipelines tf.data is recommended.\n"
          ],
          "name": "stdout"
        },
        {
          "output_type": "stream",
          "text": [
            "WARNING:tensorflow:multiprocessing can interact badly with TensorFlow, causing nondeterministic deadlocks. For high performance data pipelines tf.data is recommended.\n"
          ],
          "name": "stderr"
        },
        {
          "output_type": "stream",
          "text": [
            "2289/2290 [============================>.] - ETA: 0s - loss: 6.4390 - accuracy: 0.5602 - f1: 0.4635WARNING:tensorflow:multiprocessing can interact badly with TensorFlow, causing nondeterministic deadlocks. For high performance data pipelines tf.data is recommended.\n"
          ],
          "name": "stdout"
        },
        {
          "output_type": "stream",
          "text": [
            "WARNING:tensorflow:multiprocessing can interact badly with TensorFlow, causing nondeterministic deadlocks. For high performance data pipelines tf.data is recommended.\n"
          ],
          "name": "stderr"
        },
        {
          "output_type": "stream",
          "text": [
            "\b\b\b\b\b\b\b\b\b\b\b\b\b\b\b\b\b\b\b\b\b\b\b\b\b\b\b\b\b\b\b\b\b\b\b\b\b\b\b\b\b\b\b\b\b\b\b\b\b\b\b\b\b\b\b\b\b\b\b\b\b\b\b\b\b\b\b\b\b\b\b\b\b\b\b\b\b\b\b\b\b\b\b\b\b\b\b\b\b\b\b\b\b\b\b\b\b\b\b\r2290/2290 [==============================] - ETA: 0s - loss: 6.4378 - accuracy: 0.5602 - f1: 0.4635\n",
            "Epoch 00004: accuracy improved from 0.53782 to 0.56022, saving model to /content/drive/My Drive/xview/baseline_model_vgg19/-saved-model-04-0.56.hdf5\n",
            "2290/2290 [==============================] - 792s 346ms/step - loss: 6.4378 - accuracy: 0.5602 - f1: 0.4635\n",
            "Epoch 5/40\n",
            "WARNING:tensorflow:multiprocessing can interact badly with TensorFlow, causing nondeterministic deadlocks. For high performance data pipelines tf.data is recommended.\n"
          ],
          "name": "stdout"
        },
        {
          "output_type": "stream",
          "text": [
            "WARNING:tensorflow:multiprocessing can interact badly with TensorFlow, causing nondeterministic deadlocks. For high performance data pipelines tf.data is recommended.\n"
          ],
          "name": "stderr"
        },
        {
          "output_type": "stream",
          "text": [
            "2289/2290 [============================>.] - ETA: 0s - loss: 6.4521 - accuracy: 0.5770 - f1: 0.4664WARNING:tensorflow:multiprocessing can interact badly with TensorFlow, causing nondeterministic deadlocks. For high performance data pipelines tf.data is recommended.\n"
          ],
          "name": "stdout"
        },
        {
          "output_type": "stream",
          "text": [
            "WARNING:tensorflow:multiprocessing can interact badly with TensorFlow, causing nondeterministic deadlocks. For high performance data pipelines tf.data is recommended.\n"
          ],
          "name": "stderr"
        },
        {
          "output_type": "stream",
          "text": [
            "\b\b\b\b\b\b\b\b\b\b\b\b\b\b\b\b\b\b\b\b\b\b\b\b\b\b\b\b\b\b\b\b\b\b\b\b\b\b\b\b\b\b\b\b\b\b\b\b\b\b\b\b\b\b\b\b\b\b\b\b\b\b\b\b\b\b\b\b\b\b\b\b\b\b\b\b\b\b\b\b\b\b\b\b\b\b\b\b\b\b\b\b\b\b\b\b\b\b\b\r2290/2290 [==============================] - ETA: 0s - loss: 6.4510 - accuracy: 0.5770 - f1: 0.4664\n",
            "Epoch 00005: accuracy improved from 0.56022 to 0.57698, saving model to /content/drive/My Drive/xview/baseline_model_vgg19/-saved-model-05-0.58.hdf5\n",
            "2290/2290 [==============================] - 789s 344ms/step - loss: 6.4510 - accuracy: 0.5770 - f1: 0.4664\n",
            "Epoch 6/40\n",
            "WARNING:tensorflow:multiprocessing can interact badly with TensorFlow, causing nondeterministic deadlocks. For high performance data pipelines tf.data is recommended.\n"
          ],
          "name": "stdout"
        },
        {
          "output_type": "stream",
          "text": [
            "WARNING:tensorflow:multiprocessing can interact badly with TensorFlow, causing nondeterministic deadlocks. For high performance data pipelines tf.data is recommended.\n"
          ],
          "name": "stderr"
        },
        {
          "output_type": "stream",
          "text": [
            "2289/2290 [============================>.] - ETA: 0s - loss: 6.5489 - accuracy: 0.5504 - f1: 0.4631WARNING:tensorflow:multiprocessing can interact badly with TensorFlow, causing nondeterministic deadlocks. For high performance data pipelines tf.data is recommended.\n"
          ],
          "name": "stdout"
        },
        {
          "output_type": "stream",
          "text": [
            "WARNING:tensorflow:multiprocessing can interact badly with TensorFlow, causing nondeterministic deadlocks. For high performance data pipelines tf.data is recommended.\n"
          ],
          "name": "stderr"
        },
        {
          "output_type": "stream",
          "text": [
            "2290/2290 [==============================] - ETA: 0s - loss: 6.5493 - accuracy: 0.5504 - f1: 0.4631\n",
            "Epoch 00006: accuracy did not improve from 0.57698\n",
            "2290/2290 [==============================] - 782s 342ms/step - loss: 6.5493 - accuracy: 0.5504 - f1: 0.4631\n",
            "Epoch 7/40\n",
            "WARNING:tensorflow:multiprocessing can interact badly with TensorFlow, causing nondeterministic deadlocks. For high performance data pipelines tf.data is recommended.\n"
          ],
          "name": "stdout"
        },
        {
          "output_type": "stream",
          "text": [
            "WARNING:tensorflow:multiprocessing can interact badly with TensorFlow, causing nondeterministic deadlocks. For high performance data pipelines tf.data is recommended.\n"
          ],
          "name": "stderr"
        },
        {
          "output_type": "stream",
          "text": [
            "2289/2290 [============================>.] - ETA: 0s - loss: 6.4185 - accuracy: 0.5589 - f1: 0.4612WARNING:tensorflow:multiprocessing can interact badly with TensorFlow, causing nondeterministic deadlocks. For high performance data pipelines tf.data is recommended.\n"
          ],
          "name": "stdout"
        },
        {
          "output_type": "stream",
          "text": [
            "WARNING:tensorflow:multiprocessing can interact badly with TensorFlow, causing nondeterministic deadlocks. For high performance data pipelines tf.data is recommended.\n"
          ],
          "name": "stderr"
        },
        {
          "output_type": "stream",
          "text": [
            "2290/2290 [==============================] - ETA: 0s - loss: 6.4161 - accuracy: 0.5590 - f1: 0.4612\n",
            "Epoch 00007: accuracy did not improve from 0.57698\n",
            "2290/2290 [==============================] - 782s 341ms/step - loss: 6.4161 - accuracy: 0.5590 - f1: 0.4612\n",
            "Epoch 8/40\n",
            "WARNING:tensorflow:multiprocessing can interact badly with TensorFlow, causing nondeterministic deadlocks. For high performance data pipelines tf.data is recommended.\n"
          ],
          "name": "stdout"
        },
        {
          "output_type": "stream",
          "text": [
            "WARNING:tensorflow:multiprocessing can interact badly with TensorFlow, causing nondeterministic deadlocks. For high performance data pipelines tf.data is recommended.\n"
          ],
          "name": "stderr"
        },
        {
          "output_type": "stream",
          "text": [
            "2289/2290 [============================>.] - ETA: 0s - loss: 6.3788 - accuracy: 0.5968 - f1: 0.4669WARNING:tensorflow:multiprocessing can interact badly with TensorFlow, causing nondeterministic deadlocks. For high performance data pipelines tf.data is recommended.\n"
          ],
          "name": "stdout"
        },
        {
          "output_type": "stream",
          "text": [
            "WARNING:tensorflow:multiprocessing can interact badly with TensorFlow, causing nondeterministic deadlocks. For high performance data pipelines tf.data is recommended.\n"
          ],
          "name": "stderr"
        },
        {
          "output_type": "stream",
          "text": [
            "\b\b\b\b\b\b\b\b\b\b\b\b\b\b\b\b\b\b\b\b\b\b\b\b\b\b\b\b\b\b\b\b\b\b\b\b\b\b\b\b\b\b\b\b\b\b\b\b\b\b\b\b\b\b\b\b\b\b\b\b\b\b\b\b\b\b\b\b\b\b\b\b\b\b\b\b\b\b\b\b\b\b\b\b\b\b\b\b\b\b\b\b\b\b\b\b\b\b\b\r2290/2290 [==============================] - ETA: 0s - loss: 6.3785 - accuracy: 0.5968 - f1: 0.4669\n",
            "Epoch 00008: accuracy improved from 0.57698 to 0.59685, saving model to /content/drive/My Drive/xview/baseline_model_vgg19/-saved-model-08-0.60.hdf5\n",
            "2290/2290 [==============================] - 789s 344ms/step - loss: 6.3785 - accuracy: 0.5968 - f1: 0.4669\n",
            "Epoch 9/40\n",
            "WARNING:tensorflow:multiprocessing can interact badly with TensorFlow, causing nondeterministic deadlocks. For high performance data pipelines tf.data is recommended.\n"
          ],
          "name": "stdout"
        },
        {
          "output_type": "stream",
          "text": [
            "WARNING:tensorflow:multiprocessing can interact badly with TensorFlow, causing nondeterministic deadlocks. For high performance data pipelines tf.data is recommended.\n"
          ],
          "name": "stderr"
        },
        {
          "output_type": "stream",
          "text": [
            "2289/2290 [============================>.] - ETA: 0s - loss: 6.3510 - accuracy: 0.6118 - f1: 0.4689WARNING:tensorflow:multiprocessing can interact badly with TensorFlow, causing nondeterministic deadlocks. For high performance data pipelines tf.data is recommended.\n"
          ],
          "name": "stdout"
        },
        {
          "output_type": "stream",
          "text": [
            "WARNING:tensorflow:multiprocessing can interact badly with TensorFlow, causing nondeterministic deadlocks. For high performance data pipelines tf.data is recommended.\n"
          ],
          "name": "stderr"
        },
        {
          "output_type": "stream",
          "text": [
            "\b\b\b\b\b\b\b\b\b\b\b\b\b\b\b\b\b\b\b\b\b\b\b\b\b\b\b\b\b\b\b\b\b\b\b\b\b\b\b\b\b\b\b\b\b\b\b\b\b\b\b\b\b\b\b\b\b\b\b\b\b\b\b\b\b\b\b\b\b\b\b\b\b\b\b\b\b\b\b\b\b\b\b\b\b\b\b\b\b\b\b\b\b\b\b\b\b\b\b\r2290/2290 [==============================] - ETA: 0s - loss: 6.3526 - accuracy: 0.6117 - f1: 0.4688\n",
            "Epoch 00009: accuracy improved from 0.59685 to 0.61171, saving model to /content/drive/My Drive/xview/baseline_model_vgg19/-saved-model-09-0.61.hdf5\n",
            "2290/2290 [==============================] - 789s 345ms/step - loss: 6.3526 - accuracy: 0.6117 - f1: 0.4688\n",
            "Epoch 10/40\n",
            "WARNING:tensorflow:multiprocessing can interact badly with TensorFlow, causing nondeterministic deadlocks. For high performance data pipelines tf.data is recommended.\n"
          ],
          "name": "stdout"
        },
        {
          "output_type": "stream",
          "text": [
            "WARNING:tensorflow:multiprocessing can interact badly with TensorFlow, causing nondeterministic deadlocks. For high performance data pipelines tf.data is recommended.\n"
          ],
          "name": "stderr"
        },
        {
          "output_type": "stream",
          "text": [
            "2289/2290 [============================>.] - ETA: 0s - loss: 6.5675 - accuracy: 0.5828 - f1: 0.4635WARNING:tensorflow:multiprocessing can interact badly with TensorFlow, causing nondeterministic deadlocks. For high performance data pipelines tf.data is recommended.\n"
          ],
          "name": "stdout"
        },
        {
          "output_type": "stream",
          "text": [
            "WARNING:tensorflow:multiprocessing can interact badly with TensorFlow, causing nondeterministic deadlocks. For high performance data pipelines tf.data is recommended.\n"
          ],
          "name": "stderr"
        },
        {
          "output_type": "stream",
          "text": [
            "2290/2290 [==============================] - ETA: 0s - loss: 6.5661 - accuracy: 0.5828 - f1: 0.4635\n",
            "Epoch 00010: accuracy did not improve from 0.61171\n",
            "2290/2290 [==============================] - 784s 342ms/step - loss: 6.5661 - accuracy: 0.5828 - f1: 0.4635\n",
            "Epoch 11/40\n",
            "WARNING:tensorflow:multiprocessing can interact badly with TensorFlow, causing nondeterministic deadlocks. For high performance data pipelines tf.data is recommended.\n"
          ],
          "name": "stdout"
        },
        {
          "output_type": "stream",
          "text": [
            "WARNING:tensorflow:multiprocessing can interact badly with TensorFlow, causing nondeterministic deadlocks. For high performance data pipelines tf.data is recommended.\n"
          ],
          "name": "stderr"
        },
        {
          "output_type": "stream",
          "text": [
            "2289/2290 [============================>.] - ETA: 0s - loss: 6.4057 - accuracy: 0.6080 - f1: 0.4614WARNING:tensorflow:multiprocessing can interact badly with TensorFlow, causing nondeterministic deadlocks. For high performance data pipelines tf.data is recommended.\n"
          ],
          "name": "stdout"
        },
        {
          "output_type": "stream",
          "text": [
            "WARNING:tensorflow:multiprocessing can interact badly with TensorFlow, causing nondeterministic deadlocks. For high performance data pipelines tf.data is recommended.\n"
          ],
          "name": "stderr"
        },
        {
          "output_type": "stream",
          "text": [
            "2290/2290 [==============================] - ETA: 0s - loss: 6.4057 - accuracy: 0.6080 - f1: 0.4614\n",
            "Epoch 00011: accuracy did not improve from 0.61171\n",
            "2290/2290 [==============================] - 784s 342ms/step - loss: 6.4057 - accuracy: 0.6080 - f1: 0.4614\n",
            "Epoch 12/40\n",
            "WARNING:tensorflow:multiprocessing can interact badly with TensorFlow, causing nondeterministic deadlocks. For high performance data pipelines tf.data is recommended.\n"
          ],
          "name": "stdout"
        },
        {
          "output_type": "stream",
          "text": [
            "WARNING:tensorflow:multiprocessing can interact badly with TensorFlow, causing nondeterministic deadlocks. For high performance data pipelines tf.data is recommended.\n"
          ],
          "name": "stderr"
        },
        {
          "output_type": "stream",
          "text": [
            "2289/2290 [============================>.] - ETA: 0s - loss: 6.4528 - accuracy: 0.5874 - f1: 0.4567WARNING:tensorflow:multiprocessing can interact badly with TensorFlow, causing nondeterministic deadlocks. For high performance data pipelines tf.data is recommended.\n"
          ],
          "name": "stdout"
        },
        {
          "output_type": "stream",
          "text": [
            "WARNING:tensorflow:multiprocessing can interact badly with TensorFlow, causing nondeterministic deadlocks. For high performance data pipelines tf.data is recommended.\n"
          ],
          "name": "stderr"
        },
        {
          "output_type": "stream",
          "text": [
            "2290/2290 [==============================] - ETA: 0s - loss: 6.4520 - accuracy: 0.5875 - f1: 0.4567\n",
            "Epoch 00012: accuracy did not improve from 0.61171\n",
            "2290/2290 [==============================] - 786s 343ms/step - loss: 6.4520 - accuracy: 0.5875 - f1: 0.4567\n",
            "Epoch 13/40\n",
            "WARNING:tensorflow:multiprocessing can interact badly with TensorFlow, causing nondeterministic deadlocks. For high performance data pipelines tf.data is recommended.\n"
          ],
          "name": "stdout"
        },
        {
          "output_type": "stream",
          "text": [
            "WARNING:tensorflow:multiprocessing can interact badly with TensorFlow, causing nondeterministic deadlocks. For high performance data pipelines tf.data is recommended.\n"
          ],
          "name": "stderr"
        },
        {
          "output_type": "stream",
          "text": [
            "2289/2290 [============================>.] - ETA: 0s - loss: 6.3328 - accuracy: 0.6314 - f1: 0.4579WARNING:tensorflow:multiprocessing can interact badly with TensorFlow, causing nondeterministic deadlocks. For high performance data pipelines tf.data is recommended.\n"
          ],
          "name": "stdout"
        },
        {
          "output_type": "stream",
          "text": [
            "WARNING:tensorflow:multiprocessing can interact badly with TensorFlow, causing nondeterministic deadlocks. For high performance data pipelines tf.data is recommended.\n"
          ],
          "name": "stderr"
        },
        {
          "output_type": "stream",
          "text": [
            "\b\b\b\b\b\b\b\b\b\b\b\b\b\b\b\b\b\b\b\b\b\b\b\b\b\b\b\b\b\b\b\b\b\b\b\b\b\b\b\b\b\b\b\b\b\b\b\b\b\b\b\b\b\b\b\b\b\b\b\b\b\b\b\b\b\b\b\b\b\b\b\b\b\b\b\b\b\b\b\b\b\b\b\b\b\b\b\b\b\b\b\b\b\b\b\b\b\b\b\r2290/2290 [==============================] - ETA: 0s - loss: 6.3311 - accuracy: 0.6314 - f1: 0.4579\n",
            "Epoch 00013: accuracy improved from 0.61171 to 0.63136, saving model to /content/drive/My Drive/xview/baseline_model_vgg19/-saved-model-13-0.63.hdf5\n",
            "2290/2290 [==============================] - 793s 346ms/step - loss: 6.3311 - accuracy: 0.6314 - f1: 0.4579\n",
            "Epoch 14/40\n",
            "WARNING:tensorflow:multiprocessing can interact badly with TensorFlow, causing nondeterministic deadlocks. For high performance data pipelines tf.data is recommended.\n"
          ],
          "name": "stdout"
        },
        {
          "output_type": "stream",
          "text": [
            "WARNING:tensorflow:multiprocessing can interact badly with TensorFlow, causing nondeterministic deadlocks. For high performance data pipelines tf.data is recommended.\n"
          ],
          "name": "stderr"
        },
        {
          "output_type": "stream",
          "text": [
            "2289/2290 [============================>.] - ETA: 0s - loss: 6.2926 - accuracy: 0.6491 - f1: 0.4699WARNING:tensorflow:multiprocessing can interact badly with TensorFlow, causing nondeterministic deadlocks. For high performance data pipelines tf.data is recommended.\n"
          ],
          "name": "stdout"
        },
        {
          "output_type": "stream",
          "text": [
            "WARNING:tensorflow:multiprocessing can interact badly with TensorFlow, causing nondeterministic deadlocks. For high performance data pipelines tf.data is recommended.\n"
          ],
          "name": "stderr"
        },
        {
          "output_type": "stream",
          "text": [
            "\b\b\b\b\b\b\b\b\b\b\b\b\b\b\b\b\b\b\b\b\b\b\b\b\b\b\b\b\b\b\b\b\b\b\b\b\b\b\b\b\b\b\b\b\b\b\b\b\b\b\b\b\b\b\b\b\b\b\b\b\b\b\b\b\b\b\b\b\b\b\b\b\b\b\b\b\b\b\b\b\b\b\b\b\b\b\b\b\b\b\b\b\b\b\b\b\b\b\b\r2290/2290 [==============================] - ETA: 0s - loss: 6.2931 - accuracy: 0.6491 - f1: 0.4698\n",
            "Epoch 00014: accuracy improved from 0.63136 to 0.64908, saving model to /content/drive/My Drive/xview/baseline_model_vgg19/-saved-model-14-0.65.hdf5\n",
            "2290/2290 [==============================] - 792s 346ms/step - loss: 6.2931 - accuracy: 0.6491 - f1: 0.4698\n",
            "Epoch 15/40\n",
            "WARNING:tensorflow:multiprocessing can interact badly with TensorFlow, causing nondeterministic deadlocks. For high performance data pipelines tf.data is recommended.\n"
          ],
          "name": "stdout"
        },
        {
          "output_type": "stream",
          "text": [
            "WARNING:tensorflow:multiprocessing can interact badly with TensorFlow, causing nondeterministic deadlocks. For high performance data pipelines tf.data is recommended.\n"
          ],
          "name": "stderr"
        },
        {
          "output_type": "stream",
          "text": [
            "2289/2290 [============================>.] - ETA: 0s - loss: 6.3479 - accuracy: 0.6259 - f1: 0.4611WARNING:tensorflow:multiprocessing can interact badly with TensorFlow, causing nondeterministic deadlocks. For high performance data pipelines tf.data is recommended.\n"
          ],
          "name": "stdout"
        },
        {
          "output_type": "stream",
          "text": [
            "WARNING:tensorflow:multiprocessing can interact badly with TensorFlow, causing nondeterministic deadlocks. For high performance data pipelines tf.data is recommended.\n"
          ],
          "name": "stderr"
        },
        {
          "output_type": "stream",
          "text": [
            "2290/2290 [==============================] - ETA: 0s - loss: 6.3471 - accuracy: 0.6258 - f1: 0.4611\n",
            "Epoch 00015: accuracy did not improve from 0.64908\n",
            "2290/2290 [==============================] - 787s 344ms/step - loss: 6.3471 - accuracy: 0.6258 - f1: 0.4611\n",
            "Epoch 16/40\n",
            "WARNING:tensorflow:multiprocessing can interact badly with TensorFlow, causing nondeterministic deadlocks. For high performance data pipelines tf.data is recommended.\n"
          ],
          "name": "stdout"
        },
        {
          "output_type": "stream",
          "text": [
            "WARNING:tensorflow:multiprocessing can interact badly with TensorFlow, causing nondeterministic deadlocks. For high performance data pipelines tf.data is recommended.\n"
          ],
          "name": "stderr"
        },
        {
          "output_type": "stream",
          "text": [
            "2289/2290 [============================>.] - ETA: 0s - loss: 6.2953 - accuracy: 0.6533 - f1: 0.4679WARNING:tensorflow:multiprocessing can interact badly with TensorFlow, causing nondeterministic deadlocks. For high performance data pipelines tf.data is recommended.\n"
          ],
          "name": "stdout"
        },
        {
          "output_type": "stream",
          "text": [
            "WARNING:tensorflow:multiprocessing can interact badly with TensorFlow, causing nondeterministic deadlocks. For high performance data pipelines tf.data is recommended.\n"
          ],
          "name": "stderr"
        },
        {
          "output_type": "stream",
          "text": [
            "\b\b\b\b\b\b\b\b\b\b\b\b\b\b\b\b\b\b\b\b\b\b\b\b\b\b\b\b\b\b\b\b\b\b\b\b\b\b\b\b\b\b\b\b\b\b\b\b\b\b\b\b\b\b\b\b\b\b\b\b\b\b\b\b\b\b\b\b\b\b\b\b\b\b\b\b\b\b\b\b\b\b\b\b\b\b\b\b\b\b\b\b\b\b\b\b\b\b\b\r2290/2290 [==============================] - ETA: 0s - loss: 6.2940 - accuracy: 0.6534 - f1: 0.4679\n",
            "Epoch 00016: accuracy improved from 0.64908 to 0.65341, saving model to /content/drive/My Drive/xview/baseline_model_vgg19/-saved-model-16-0.65.hdf5\n",
            "2290/2290 [==============================] - 789s 345ms/step - loss: 6.2940 - accuracy: 0.6534 - f1: 0.4679\n",
            "Epoch 17/40\n",
            "WARNING:tensorflow:multiprocessing can interact badly with TensorFlow, causing nondeterministic deadlocks. For high performance data pipelines tf.data is recommended.\n"
          ],
          "name": "stdout"
        },
        {
          "output_type": "stream",
          "text": [
            "WARNING:tensorflow:multiprocessing can interact badly with TensorFlow, causing nondeterministic deadlocks. For high performance data pipelines tf.data is recommended.\n"
          ],
          "name": "stderr"
        },
        {
          "output_type": "stream",
          "text": [
            "2289/2290 [============================>.] - ETA: 0s - loss: 6.2944 - accuracy: 0.6516 - f1: 0.4703WARNING:tensorflow:multiprocessing can interact badly with TensorFlow, causing nondeterministic deadlocks. For high performance data pipelines tf.data is recommended.\n"
          ],
          "name": "stdout"
        },
        {
          "output_type": "stream",
          "text": [
            "WARNING:tensorflow:multiprocessing can interact badly with TensorFlow, causing nondeterministic deadlocks. For high performance data pipelines tf.data is recommended.\n"
          ],
          "name": "stderr"
        },
        {
          "output_type": "stream",
          "text": [
            "2290/2290 [==============================] - ETA: 0s - loss: 6.2940 - accuracy: 0.6517 - f1: 0.4703\n",
            "Epoch 00017: accuracy did not improve from 0.65341\n",
            "2290/2290 [==============================] - 782s 341ms/step - loss: 6.2940 - accuracy: 0.6517 - f1: 0.4703\n",
            "Epoch 18/40\n",
            "WARNING:tensorflow:multiprocessing can interact badly with TensorFlow, causing nondeterministic deadlocks. For high performance data pipelines tf.data is recommended.\n"
          ],
          "name": "stdout"
        },
        {
          "output_type": "stream",
          "text": [
            "WARNING:tensorflow:multiprocessing can interact badly with TensorFlow, causing nondeterministic deadlocks. For high performance data pipelines tf.data is recommended.\n"
          ],
          "name": "stderr"
        },
        {
          "output_type": "stream",
          "text": [
            "2289/2290 [============================>.] - ETA: 0s - loss: 6.2981 - accuracy: 0.6517 - f1: 0.4651WARNING:tensorflow:multiprocessing can interact badly with TensorFlow, causing nondeterministic deadlocks. For high performance data pipelines tf.data is recommended.\n"
          ],
          "name": "stdout"
        },
        {
          "output_type": "stream",
          "text": [
            "WARNING:tensorflow:multiprocessing can interact badly with TensorFlow, causing nondeterministic deadlocks. For high performance data pipelines tf.data is recommended.\n"
          ],
          "name": "stderr"
        },
        {
          "output_type": "stream",
          "text": [
            "2290/2290 [==============================] - ETA: 0s - loss: 6.2989 - accuracy: 0.6517 - f1: 0.4651\n",
            "Epoch 00018: accuracy did not improve from 0.65341\n",
            "2290/2290 [==============================] - 784s 342ms/step - loss: 6.2989 - accuracy: 0.6517 - f1: 0.4651\n",
            "Epoch 19/40\n",
            "WARNING:tensorflow:multiprocessing can interact badly with TensorFlow, causing nondeterministic deadlocks. For high performance data pipelines tf.data is recommended.\n"
          ],
          "name": "stdout"
        },
        {
          "output_type": "stream",
          "text": [
            "WARNING:tensorflow:multiprocessing can interact badly with TensorFlow, causing nondeterministic deadlocks. For high performance data pipelines tf.data is recommended.\n"
          ],
          "name": "stderr"
        },
        {
          "output_type": "stream",
          "text": [
            "2289/2290 [============================>.] - ETA: 0s - loss: 6.2426 - accuracy: 0.6794 - f1: 0.4677WARNING:tensorflow:multiprocessing can interact badly with TensorFlow, causing nondeterministic deadlocks. For high performance data pipelines tf.data is recommended.\n"
          ],
          "name": "stdout"
        },
        {
          "output_type": "stream",
          "text": [
            "WARNING:tensorflow:multiprocessing can interact badly with TensorFlow, causing nondeterministic deadlocks. For high performance data pipelines tf.data is recommended.\n"
          ],
          "name": "stderr"
        },
        {
          "output_type": "stream",
          "text": [
            "\b\b\b\b\b\b\b\b\b\b\b\b\b\b\b\b\b\b\b\b\b\b\b\b\b\b\b\b\b\b\b\b\b\b\b\b\b\b\b\b\b\b\b\b\b\b\b\b\b\b\b\b\b\b\b\b\b\b\b\b\b\b\b\b\b\b\b\b\b\b\b\b\b\b\b\b\b\b\b\b\b\b\b\b\b\b\b\b\b\b\b\b\b\b\b\b\b\b\b\r2290/2290 [==============================] - ETA: 0s - loss: 6.2435 - accuracy: 0.6793 - f1: 0.4677\n",
            "Epoch 00019: accuracy improved from 0.65341 to 0.67928, saving model to /content/drive/My Drive/xview/baseline_model_vgg19/-saved-model-19-0.68.hdf5\n",
            "2290/2290 [==============================] - 788s 344ms/step - loss: 6.2435 - accuracy: 0.6793 - f1: 0.4677\n",
            "Epoch 20/40\n",
            "WARNING:tensorflow:multiprocessing can interact badly with TensorFlow, causing nondeterministic deadlocks. For high performance data pipelines tf.data is recommended.\n"
          ],
          "name": "stdout"
        },
        {
          "output_type": "stream",
          "text": [
            "WARNING:tensorflow:multiprocessing can interact badly with TensorFlow, causing nondeterministic deadlocks. For high performance data pipelines tf.data is recommended.\n"
          ],
          "name": "stderr"
        },
        {
          "output_type": "stream",
          "text": [
            "2289/2290 [============================>.] - ETA: 0s - loss: 6.2504 - accuracy: 0.6742 - f1: 0.4708WARNING:tensorflow:multiprocessing can interact badly with TensorFlow, causing nondeterministic deadlocks. For high performance data pipelines tf.data is recommended.\n"
          ],
          "name": "stdout"
        },
        {
          "output_type": "stream",
          "text": [
            "WARNING:tensorflow:multiprocessing can interact badly with TensorFlow, causing nondeterministic deadlocks. For high performance data pipelines tf.data is recommended.\n"
          ],
          "name": "stderr"
        },
        {
          "output_type": "stream",
          "text": [
            "2290/2290 [==============================] - ETA: 0s - loss: 6.2503 - accuracy: 0.6742 - f1: 0.4708\n",
            "Epoch 00020: accuracy did not improve from 0.67928\n",
            "2290/2290 [==============================] - 783s 342ms/step - loss: 6.2503 - accuracy: 0.6742 - f1: 0.4708\n",
            "Epoch 21/40\n",
            "WARNING:tensorflow:multiprocessing can interact badly with TensorFlow, causing nondeterministic deadlocks. For high performance data pipelines tf.data is recommended.\n"
          ],
          "name": "stdout"
        },
        {
          "output_type": "stream",
          "text": [
            "WARNING:tensorflow:multiprocessing can interact badly with TensorFlow, causing nondeterministic deadlocks. For high performance data pipelines tf.data is recommended.\n"
          ],
          "name": "stderr"
        },
        {
          "output_type": "stream",
          "text": [
            "2289/2290 [============================>.] - ETA: 0s - loss: 6.2297 - accuracy: 0.6673 - f1: 0.4725WARNING:tensorflow:multiprocessing can interact badly with TensorFlow, causing nondeterministic deadlocks. For high performance data pipelines tf.data is recommended.\n"
          ],
          "name": "stdout"
        },
        {
          "output_type": "stream",
          "text": [
            "WARNING:tensorflow:multiprocessing can interact badly with TensorFlow, causing nondeterministic deadlocks. For high performance data pipelines tf.data is recommended.\n"
          ],
          "name": "stderr"
        },
        {
          "output_type": "stream",
          "text": [
            "2290/2290 [==============================] - ETA: 0s - loss: 6.2302 - accuracy: 0.6673 - f1: 0.4725\n",
            "Epoch 00021: accuracy did not improve from 0.67928\n",
            "2290/2290 [==============================] - 784s 342ms/step - loss: 6.2302 - accuracy: 0.6673 - f1: 0.4725\n",
            "Epoch 22/40\n",
            "WARNING:tensorflow:multiprocessing can interact badly with TensorFlow, causing nondeterministic deadlocks. For high performance data pipelines tf.data is recommended.\n"
          ],
          "name": "stdout"
        },
        {
          "output_type": "stream",
          "text": [
            "WARNING:tensorflow:multiprocessing can interact badly with TensorFlow, causing nondeterministic deadlocks. For high performance data pipelines tf.data is recommended.\n"
          ],
          "name": "stderr"
        },
        {
          "output_type": "stream",
          "text": [
            "2289/2290 [============================>.] - ETA: 0s - loss: 6.2562 - accuracy: 0.6558 - f1: 0.4625WARNING:tensorflow:multiprocessing can interact badly with TensorFlow, causing nondeterministic deadlocks. For high performance data pipelines tf.data is recommended.\n"
          ],
          "name": "stdout"
        },
        {
          "output_type": "stream",
          "text": [
            "WARNING:tensorflow:multiprocessing can interact badly with TensorFlow, causing nondeterministic deadlocks. For high performance data pipelines tf.data is recommended.\n"
          ],
          "name": "stderr"
        },
        {
          "output_type": "stream",
          "text": [
            "2290/2290 [==============================] - ETA: 0s - loss: 6.2549 - accuracy: 0.6558 - f1: 0.4625\n",
            "Epoch 00022: accuracy did not improve from 0.67928\n",
            "2290/2290 [==============================] - 784s 342ms/step - loss: 6.2549 - accuracy: 0.6558 - f1: 0.4625\n",
            "Epoch 23/40\n",
            "WARNING:tensorflow:multiprocessing can interact badly with TensorFlow, causing nondeterministic deadlocks. For high performance data pipelines tf.data is recommended.\n"
          ],
          "name": "stdout"
        },
        {
          "output_type": "stream",
          "text": [
            "WARNING:tensorflow:multiprocessing can interact badly with TensorFlow, causing nondeterministic deadlocks. For high performance data pipelines tf.data is recommended.\n"
          ],
          "name": "stderr"
        },
        {
          "output_type": "stream",
          "text": [
            "2289/2290 [============================>.] - ETA: 0s - loss: 6.3637 - accuracy: 0.6232 - f1: 0.4659WARNING:tensorflow:multiprocessing can interact badly with TensorFlow, causing nondeterministic deadlocks. For high performance data pipelines tf.data is recommended.\n"
          ],
          "name": "stdout"
        },
        {
          "output_type": "stream",
          "text": [
            "WARNING:tensorflow:multiprocessing can interact badly with TensorFlow, causing nondeterministic deadlocks. For high performance data pipelines tf.data is recommended.\n"
          ],
          "name": "stderr"
        },
        {
          "output_type": "stream",
          "text": [
            "2290/2290 [==============================] - ETA: 0s - loss: 6.3629 - accuracy: 0.6232 - f1: 0.4659\n",
            "Epoch 00023: accuracy did not improve from 0.67928\n",
            "2290/2290 [==============================] - 781s 341ms/step - loss: 6.3629 - accuracy: 0.6232 - f1: 0.4659\n",
            "Epoch 24/40\n",
            "WARNING:tensorflow:multiprocessing can interact badly with TensorFlow, causing nondeterministic deadlocks. For high performance data pipelines tf.data is recommended.\n"
          ],
          "name": "stdout"
        },
        {
          "output_type": "stream",
          "text": [
            "WARNING:tensorflow:multiprocessing can interact badly with TensorFlow, causing nondeterministic deadlocks. For high performance data pipelines tf.data is recommended.\n"
          ],
          "name": "stderr"
        },
        {
          "output_type": "stream",
          "text": [
            "2289/2290 [============================>.] - ETA: 0s - loss: 6.2878 - accuracy: 0.6592 - f1: 0.4767WARNING:tensorflow:multiprocessing can interact badly with TensorFlow, causing nondeterministic deadlocks. For high performance data pipelines tf.data is recommended.\n"
          ],
          "name": "stdout"
        },
        {
          "output_type": "stream",
          "text": [
            "WARNING:tensorflow:multiprocessing can interact badly with TensorFlow, causing nondeterministic deadlocks. For high performance data pipelines tf.data is recommended.\n"
          ],
          "name": "stderr"
        },
        {
          "output_type": "stream",
          "text": [
            "2290/2290 [==============================] - ETA: 0s - loss: 6.2878 - accuracy: 0.6592 - f1: 0.4767\n",
            "Epoch 00024: accuracy did not improve from 0.67928\n",
            "2290/2290 [==============================] - 781s 341ms/step - loss: 6.2878 - accuracy: 0.6592 - f1: 0.4767\n",
            "Epoch 25/40\n",
            "WARNING:tensorflow:multiprocessing can interact badly with TensorFlow, causing nondeterministic deadlocks. For high performance data pipelines tf.data is recommended.\n"
          ],
          "name": "stdout"
        },
        {
          "output_type": "stream",
          "text": [
            "WARNING:tensorflow:multiprocessing can interact badly with TensorFlow, causing nondeterministic deadlocks. For high performance data pipelines tf.data is recommended.\n"
          ],
          "name": "stderr"
        },
        {
          "output_type": "stream",
          "text": [
            "2289/2290 [============================>.] - ETA: 0s - loss: 6.2581 - accuracy: 0.6713 - f1: 0.4837WARNING:tensorflow:multiprocessing can interact badly with TensorFlow, causing nondeterministic deadlocks. For high performance data pipelines tf.data is recommended.\n"
          ],
          "name": "stdout"
        },
        {
          "output_type": "stream",
          "text": [
            "WARNING:tensorflow:multiprocessing can interact badly with TensorFlow, causing nondeterministic deadlocks. For high performance data pipelines tf.data is recommended.\n"
          ],
          "name": "stderr"
        },
        {
          "output_type": "stream",
          "text": [
            "2290/2290 [==============================] - ETA: 0s - loss: 6.2587 - accuracy: 0.6713 - f1: 0.4837\n",
            "Epoch 00025: accuracy did not improve from 0.67928\n",
            "2290/2290 [==============================] - 777s 339ms/step - loss: 6.2587 - accuracy: 0.6713 - f1: 0.4837\n",
            "Epoch 26/40\n",
            "WARNING:tensorflow:multiprocessing can interact badly with TensorFlow, causing nondeterministic deadlocks. For high performance data pipelines tf.data is recommended.\n"
          ],
          "name": "stdout"
        },
        {
          "output_type": "stream",
          "text": [
            "WARNING:tensorflow:multiprocessing can interact badly with TensorFlow, causing nondeterministic deadlocks. For high performance data pipelines tf.data is recommended.\n"
          ],
          "name": "stderr"
        },
        {
          "output_type": "stream",
          "text": [
            "2289/2290 [============================>.] - ETA: 0s - loss: 6.2376 - accuracy: 0.6769 - f1: 0.4749WARNING:tensorflow:multiprocessing can interact badly with TensorFlow, causing nondeterministic deadlocks. For high performance data pipelines tf.data is recommended.\n"
          ],
          "name": "stdout"
        },
        {
          "output_type": "stream",
          "text": [
            "WARNING:tensorflow:multiprocessing can interact badly with TensorFlow, causing nondeterministic deadlocks. For high performance data pipelines tf.data is recommended.\n"
          ],
          "name": "stderr"
        },
        {
          "output_type": "stream",
          "text": [
            "2290/2290 [==============================] - ETA: 0s - loss: 6.2380 - accuracy: 0.6769 - f1: 0.4749\n",
            "Epoch 00026: accuracy did not improve from 0.67928\n",
            "2290/2290 [==============================] - 781s 341ms/step - loss: 6.2380 - accuracy: 0.6769 - f1: 0.4749\n",
            "Epoch 27/40\n",
            "WARNING:tensorflow:multiprocessing can interact badly with TensorFlow, causing nondeterministic deadlocks. For high performance data pipelines tf.data is recommended.\n"
          ],
          "name": "stdout"
        },
        {
          "output_type": "stream",
          "text": [
            "WARNING:tensorflow:multiprocessing can interact badly with TensorFlow, causing nondeterministic deadlocks. For high performance data pipelines tf.data is recommended.\n"
          ],
          "name": "stderr"
        },
        {
          "output_type": "stream",
          "text": [
            "2289/2290 [============================>.] - ETA: 0s - loss: 6.2989 - accuracy: 0.6488 - f1: 0.4669WARNING:tensorflow:multiprocessing can interact badly with TensorFlow, causing nondeterministic deadlocks. For high performance data pipelines tf.data is recommended.\n"
          ],
          "name": "stdout"
        },
        {
          "output_type": "stream",
          "text": [
            "WARNING:tensorflow:multiprocessing can interact badly with TensorFlow, causing nondeterministic deadlocks. For high performance data pipelines tf.data is recommended.\n"
          ],
          "name": "stderr"
        },
        {
          "output_type": "stream",
          "text": [
            "2290/2290 [==============================] - ETA: 0s - loss: 6.2984 - accuracy: 0.6488 - f1: 0.4669\n",
            "Epoch 00027: accuracy did not improve from 0.67928\n",
            "2290/2290 [==============================] - 780s 341ms/step - loss: 6.2984 - accuracy: 0.6488 - f1: 0.4669\n",
            "Epoch 28/40\n",
            "WARNING:tensorflow:multiprocessing can interact badly with TensorFlow, causing nondeterministic deadlocks. For high performance data pipelines tf.data is recommended.\n"
          ],
          "name": "stdout"
        },
        {
          "output_type": "stream",
          "text": [
            "WARNING:tensorflow:multiprocessing can interact badly with TensorFlow, causing nondeterministic deadlocks. For high performance data pipelines tf.data is recommended.\n"
          ],
          "name": "stderr"
        },
        {
          "output_type": "stream",
          "text": [
            "2289/2290 [============================>.] - ETA: 0s - loss: 6.2083 - accuracy: 0.6923 - f1: 0.4830WARNING:tensorflow:multiprocessing can interact badly with TensorFlow, causing nondeterministic deadlocks. For high performance data pipelines tf.data is recommended.\n"
          ],
          "name": "stdout"
        },
        {
          "output_type": "stream",
          "text": [
            "WARNING:tensorflow:multiprocessing can interact badly with TensorFlow, causing nondeterministic deadlocks. For high performance data pipelines tf.data is recommended.\n"
          ],
          "name": "stderr"
        },
        {
          "output_type": "stream",
          "text": [
            "\b\b\b\b\b\b\b\b\b\b\b\b\b\b\b\b\b\b\b\b\b\b\b\b\b\b\b\b\b\b\b\b\b\b\b\b\b\b\b\b\b\b\b\b\b\b\b\b\b\b\b\b\b\b\b\b\b\b\b\b\b\b\b\b\b\b\b\b\b\b\b\b\b\b\b\b\b\b\b\b\b\b\b\b\b\b\b\b\b\b\b\b\b\b\b\b\b\b\b\r2290/2290 [==============================] - ETA: 0s - loss: 6.2087 - accuracy: 0.6923 - f1: 0.4830\n",
            "Epoch 00028: accuracy improved from 0.67928 to 0.69228, saving model to /content/drive/My Drive/xview/baseline_model_vgg19/-saved-model-28-0.69.hdf5\n",
            "2290/2290 [==============================] - 786s 343ms/step - loss: 6.2087 - accuracy: 0.6923 - f1: 0.4830\n",
            "Epoch 29/40\n",
            "WARNING:tensorflow:multiprocessing can interact badly with TensorFlow, causing nondeterministic deadlocks. For high performance data pipelines tf.data is recommended.\n"
          ],
          "name": "stdout"
        },
        {
          "output_type": "stream",
          "text": [
            "WARNING:tensorflow:multiprocessing can interact badly with TensorFlow, causing nondeterministic deadlocks. For high performance data pipelines tf.data is recommended.\n"
          ],
          "name": "stderr"
        },
        {
          "output_type": "stream",
          "text": [
            "2289/2290 [============================>.] - ETA: 0s - loss: 6.2375 - accuracy: 0.6758 - f1: 0.4751WARNING:tensorflow:multiprocessing can interact badly with TensorFlow, causing nondeterministic deadlocks. For high performance data pipelines tf.data is recommended.\n"
          ],
          "name": "stdout"
        },
        {
          "output_type": "stream",
          "text": [
            "WARNING:tensorflow:multiprocessing can interact badly with TensorFlow, causing nondeterministic deadlocks. For high performance data pipelines tf.data is recommended.\n"
          ],
          "name": "stderr"
        },
        {
          "output_type": "stream",
          "text": [
            "2290/2290 [==============================] - ETA: 0s - loss: 6.2379 - accuracy: 0.6759 - f1: 0.4751\n",
            "Epoch 00029: accuracy did not improve from 0.69228\n",
            "2290/2290 [==============================] - 779s 340ms/step - loss: 6.2379 - accuracy: 0.6759 - f1: 0.4751\n",
            "Epoch 30/40\n",
            "WARNING:tensorflow:multiprocessing can interact badly with TensorFlow, causing nondeterministic deadlocks. For high performance data pipelines tf.data is recommended.\n"
          ],
          "name": "stdout"
        },
        {
          "output_type": "stream",
          "text": [
            "WARNING:tensorflow:multiprocessing can interact badly with TensorFlow, causing nondeterministic deadlocks. For high performance data pipelines tf.data is recommended.\n"
          ],
          "name": "stderr"
        },
        {
          "output_type": "stream",
          "text": [
            "2289/2290 [============================>.] - ETA: 0s - loss: 6.1762 - accuracy: 0.6984 - f1: 0.4820WARNING:tensorflow:multiprocessing can interact badly with TensorFlow, causing nondeterministic deadlocks. For high performance data pipelines tf.data is recommended.\n"
          ],
          "name": "stdout"
        },
        {
          "output_type": "stream",
          "text": [
            "WARNING:tensorflow:multiprocessing can interact badly with TensorFlow, causing nondeterministic deadlocks. For high performance data pipelines tf.data is recommended.\n"
          ],
          "name": "stderr"
        },
        {
          "output_type": "stream",
          "text": [
            "\b\b\b\b\b\b\b\b\b\b\b\b\b\b\b\b\b\b\b\b\b\b\b\b\b\b\b\b\b\b\b\b\b\b\b\b\b\b\b\b\b\b\b\b\b\b\b\b\b\b\b\b\b\b\b\b\b\b\b\b\b\b\b\b\b\b\b\b\b\b\b\b\b\b\b\b\b\b\b\b\b\b\b\b\b\b\b\b\b\b\b\b\b\b\b\b\b\b\b\r2290/2290 [==============================] - ETA: 0s - loss: 6.1753 - accuracy: 0.6984 - f1: 0.4820\n",
            "Epoch 00030: accuracy improved from 0.69228 to 0.69841, saving model to /content/drive/My Drive/xview/baseline_model_vgg19/-saved-model-30-0.70.hdf5\n",
            "2290/2290 [==============================] - 785s 343ms/step - loss: 6.1753 - accuracy: 0.6984 - f1: 0.4820\n",
            "Epoch 31/40\n",
            "WARNING:tensorflow:multiprocessing can interact badly with TensorFlow, causing nondeterministic deadlocks. For high performance data pipelines tf.data is recommended.\n"
          ],
          "name": "stdout"
        },
        {
          "output_type": "stream",
          "text": [
            "WARNING:tensorflow:multiprocessing can interact badly with TensorFlow, causing nondeterministic deadlocks. For high performance data pipelines tf.data is recommended.\n"
          ],
          "name": "stderr"
        },
        {
          "output_type": "stream",
          "text": [
            "2289/2290 [============================>.] - ETA: 0s - loss: 6.1445 - accuracy: 0.7098 - f1: 0.4864WARNING:tensorflow:multiprocessing can interact badly with TensorFlow, causing nondeterministic deadlocks. For high performance data pipelines tf.data is recommended.\n"
          ],
          "name": "stdout"
        },
        {
          "output_type": "stream",
          "text": [
            "WARNING:tensorflow:multiprocessing can interact badly with TensorFlow, causing nondeterministic deadlocks. For high performance data pipelines tf.data is recommended.\n"
          ],
          "name": "stderr"
        },
        {
          "output_type": "stream",
          "text": [
            "\b\b\b\b\b\b\b\b\b\b\b\b\b\b\b\b\b\b\b\b\b\b\b\b\b\b\b\b\b\b\b\b\b\b\b\b\b\b\b\b\b\b\b\b\b\b\b\b\b\b\b\b\b\b\b\b\b\b\b\b\b\b\b\b\b\b\b\b\b\b\b\b\b\b\b\b\b\b\b\b\b\b\b\b\b\b\b\b\b\b\b\b\b\b\b\b\b\b\b\r2290/2290 [==============================] - ETA: 0s - loss: 6.1447 - accuracy: 0.7098 - f1: 0.4864\n",
            "Epoch 00031: accuracy improved from 0.69841 to 0.70977, saving model to /content/drive/My Drive/xview/baseline_model_vgg19/-saved-model-31-0.71.hdf5\n",
            "2290/2290 [==============================] - 786s 343ms/step - loss: 6.1447 - accuracy: 0.7098 - f1: 0.4864\n",
            "Epoch 32/40\n",
            "WARNING:tensorflow:multiprocessing can interact badly with TensorFlow, causing nondeterministic deadlocks. For high performance data pipelines tf.data is recommended.\n"
          ],
          "name": "stdout"
        },
        {
          "output_type": "stream",
          "text": [
            "WARNING:tensorflow:multiprocessing can interact badly with TensorFlow, causing nondeterministic deadlocks. For high performance data pipelines tf.data is recommended.\n"
          ],
          "name": "stderr"
        },
        {
          "output_type": "stream",
          "text": [
            " 484/2290 [=====>........................] - ETA: 10:16 - loss: 6.1905 - accuracy: 0.7128 - f1: 0.4878"
          ],
          "name": "stdout"
        }
      ]
    },
    {
      "cell_type": "code",
      "metadata": {
        "id": "KsN8K1ZEyOYm",
        "colab_type": "code",
        "colab": {}
      },
      "source": [
        ""
      ],
      "execution_count": null,
      "outputs": []
    }
  ]
}
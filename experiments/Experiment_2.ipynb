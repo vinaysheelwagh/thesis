{
  "nbformat": 4,
  "nbformat_minor": 0,
  "metadata": {
    "colab": {
      "name": "Experiment-2.ipynb",
      "provenance": []
    },
    "kernelspec": {
      "name": "python3",
      "display_name": "Python 3"
    },
    "accelerator": "GPU"
  },
  "cells": [
    {
      "cell_type": "code",
      "metadata": {
        "id": "tU-7LARiQbBW",
        "colab_type": "code",
        "colab": {}
      },
      "source": [
        "from PIL import Image\n",
        "import time\n",
        "import numpy as np\n",
        "import pandas as pd\n",
        "from tqdm import tqdm\n",
        "import os\n",
        "import math\n",
        "import random\n",
        "import argparse\n",
        "import logging\n",
        "import json\n",
        "import cv2\n",
        "import datetime\n",
        "\n",
        "from sklearn.metrics import f1_score, precision_score, recall_score, confusion_matrix, accuracy_score\n",
        "from sklearn.utils.class_weight import compute_class_weight\n",
        "import shapely.wkt\n",
        "import shapely\n",
        "from shapely.geometry import Polygon\n",
        "from collections import defaultdict\n",
        "\n",
        "import tensorflow as tf\n",
        "import keras\n",
        "import ast\n",
        "from keras import Sequential\n",
        "from keras.layers import Conv2D, MaxPooling2D, Dense, Flatten, Add, Input, Concatenate\n",
        "from keras.models import Model\n",
        "from keras.applications.vgg16 import VGG16\n",
        "from keras.applications.vgg19 import VGG19\n",
        "from keras.applications.resnet50 import ResNet50\n",
        "from keras import backend as K"
      ],
      "execution_count": 1,
      "outputs": []
    },
    {
      "cell_type": "code",
      "metadata": {
        "id": "Q3nL-dZkSOjR",
        "colab_type": "code",
        "colab": {
          "base_uri": "https://localhost:8080/",
          "height": 122
        },
        "outputId": "e4748d01-44a8-4c24-df19-7c7bb7248b5f"
      },
      "source": [
        "from google.colab import drive\n",
        "drive.mount('/content/drive')"
      ],
      "execution_count": 2,
      "outputs": [
        {
          "output_type": "stream",
          "text": [
            "Go to this URL in a browser: https://accounts.google.com/o/oauth2/auth?client_id=947318989803-6bn6qk8qdgf4n4g3pfee6491hc0brc4i.apps.googleusercontent.com&redirect_uri=urn%3aietf%3awg%3aoauth%3a2.0%3aoob&scope=email%20https%3a%2f%2fwww.googleapis.com%2fauth%2fdocs.test%20https%3a%2f%2fwww.googleapis.com%2fauth%2fdrive%20https%3a%2f%2fwww.googleapis.com%2fauth%2fdrive.photos.readonly%20https%3a%2f%2fwww.googleapis.com%2fauth%2fpeopleapi.readonly&response_type=code\n",
            "\n",
            "Enter your authorization code:\n",
            "··········\n",
            "Mounted at /content/drive\n"
          ],
          "name": "stdout"
        }
      ]
    },
    {
      "cell_type": "code",
      "metadata": {
        "id": "BZu81PCFSH4u",
        "colab_type": "code",
        "colab": {
          "base_uri": "https://localhost:8080/",
          "height": 85
        },
        "outputId": "a58c0100-7f28-4e6d-ab0d-e0f7a4333a75"
      },
      "source": [
        "%mkdir /content/sample_data/output\n",
        "%mkdir /content/sample_data/output/process_images\n",
        "%mkdir /content/sample_data/output/csv\n",
        "%cd /content/drive/My Drive/xview/model/\n",
        "\n",
        "\n",
        "!python process_data.py --input_dir \"/content/drive/My Drive/xview/test-data/data-split\"  --output_dir \"/content/sample_data/output/process_images\" --output_dir_csv \"/content/sample_data/output/csv\""
      ],
      "execution_count": 3,
      "outputs": [
        {
          "output_type": "stream",
          "text": [
            "/content/drive/My Drive/xview/model\n",
            "INFO:root:Started Processing for Data\n",
            "100% 1866/1866 [22:36<00:00,  1.38it/s]\n",
            "INFO:root:Finished Processing Data\n"
          ],
          "name": "stdout"
        }
      ]
    },
    {
      "cell_type": "code",
      "metadata": {
        "id": "lh0aLl61ZmOm",
        "colab_type": "code",
        "colab": {}
      },
      "source": [
        "NUM_WORKERS = 4 \n",
        "NUM_CLASSES = 4\n",
        "BATCH_SIZE = 64\n",
        "NUM_EPOCHS = 100 \n",
        "LEARNING_RATE = 0.0001\n",
        "RANDOM_SEED = 123\n",
        "# LOG_STEP = 150\n",
        "# LOG_DIR = '/path/to/logs' + datetime.datetime.now().strftime(\"%Y%m%d-%H%M%S\")\n",
        "\n",
        "damage_intensity_encoding = dict()\n",
        "damage_intensity_encoding[3] = '3'\n",
        "damage_intensity_encoding[2] = '2' \n",
        "damage_intensity_encoding[1] = '1' \n",
        "damage_intensity_encoding[0] = '0' "
      ],
      "execution_count": 4,
      "outputs": []
    },
    {
      "cell_type": "code",
      "metadata": {
        "id": "za305uLERadh",
        "colab_type": "code",
        "colab": {}
      },
      "source": [
        "def validation_generator(test_csv, test_dir):\n",
        "    df = pd.read_csv(test_csv)\n",
        "    df = df.replace({\"labels\" : damage_intensity_encoding })\n",
        "\n",
        "    gen = keras.preprocessing.image.ImageDataGenerator(\n",
        "                             rescale=1/255.)\n",
        "\n",
        "\n",
        "    return gen.flow_from_dataframe(dataframe=df,\n",
        "                                   directory=test_dir,\n",
        "                                   x_col='uuid',\n",
        "                                   y_col='labels',\n",
        "                                   batch_size=BATCH_SIZE,\n",
        "                                   shuffle=False,\n",
        "                                   seed=RANDOM_SEED,\n",
        "                                   class_mode=\"categorical\",\n",
        "                                   target_size=(128, 128))"
      ],
      "execution_count": 5,
      "outputs": []
    },
    {
      "cell_type": "code",
      "metadata": {
        "id": "7dsgKunOQslH",
        "colab_type": "code",
        "colab": {
          "base_uri": "https://localhost:8080/",
          "height": 34
        },
        "outputId": "4550810f-3608-4f85-8724-b74d3e6cac0d"
      },
      "source": [
        "weights = 'imagenet'\n",
        "inputs = Input(shape=(128, 128, 3))\n",
        "\n",
        "base_model = VGG16(include_top=False, weights=weights, input_shape=(128, 128, 3))\n",
        "\n",
        "for layer in base_model.layers:\n",
        "    layer.trainable = False\n",
        "\n",
        "x = Conv2D(32, (5, 5), strides=(1, 1), padding='same', activation='relu', input_shape=(128, 128, 3))(inputs)\n",
        "x = MaxPooling2D(pool_size=(2, 2), strides=None, padding='valid', data_format=None)(x)\n",
        "\n",
        "x = Conv2D(64, (3, 3), strides=(1, 1), padding='same', activation='relu')(x)\n",
        "x = MaxPooling2D(pool_size=(2, 2), strides=None, padding='valid', data_format=None)(x)\n",
        "\n",
        "x = Conv2D(64, (3, 3), strides=(1, 1), padding='same', activation='relu')(x)\n",
        "x = MaxPooling2D(pool_size=(2, 2), strides=None, padding='valid', data_format=None)(x)\n",
        "\n",
        "x = Flatten()(x)\n",
        "\n",
        "base_resnet = base_model(inputs)\n",
        "base_resnet = Flatten()(base_resnet)\n",
        "\n",
        "concated_layers = Concatenate()([x, base_resnet])\n",
        "\n",
        "concated_layers = Dense(2024, activation='relu')(concated_layers)\n",
        "concated_layers = Dense(524, activation='relu')(concated_layers)\n",
        "concated_layers = Dense(124, activation='relu')(concated_layers)\n",
        "output = Dense(4, activation='relu')(concated_layers)\n",
        "\n",
        "model = Model(inputs=inputs, outputs=output)\n",
        "model.load_weights(\"/content/drive/My Drive/xview/baseline_model/-saved-model-38-0.70.hdf5\")\n",
        "\n",
        "validation_gen = validation_generator(\"/content/sample_data/output/csv/train.csv\", \"/content/sample_data/output/process_images\")\n",
        "predictions = model.predict(validation_gen)\n",
        "\n",
        "y_trues = validation_gen.classes\n",
        "y_pred = np.argmax(predictions, axis=-1)\n",
        "\n"
      ],
      "execution_count": null,
      "outputs": [
        {
          "output_type": "stream",
          "text": [
            "Found 54862 validated image filenames belonging to 4 classes.\n"
          ],
          "name": "stdout"
        }
      ]
    },
    {
      "cell_type": "code",
      "metadata": {
        "id": "TlC5-8GvTQ76",
        "colab_type": "code",
        "colab": {
          "base_uri": "https://localhost:8080/",
          "height": 193
        },
        "outputId": "7bd0cacf-f76f-4c86-e22b-b61eeeaf4da6"
      },
      "source": [
        "print(\"Evaluation of vgg16 model\")\n",
        "f1_weighted = f1_score(y_trues, y_pred, average='weighted')\n",
        "print(\"f1 score is: \"+str(f1_weighted))\n",
        "precision = precision_score(y_trues, y_pred, average='weighted')\n",
        "print(\"precision :\"+str(precision))\n",
        "recall =recall_score(y_trues, y_pred, average='weighted') \n",
        "print(\"recall :\"+str(recall))\n",
        "confusionMatrix = confusion_matrix(y_trues, y_pred)\n",
        "print(\"\\nconfusion Matrix :\")\n",
        "print(confusionMatrix)"
      ],
      "execution_count": null,
      "outputs": [
        {
          "output_type": "stream",
          "text": [
            "Evaluation of vgg16 model\n",
            "f1 score is: 0.718060185556541\n",
            "precision :0.8267015464621181\n",
            "recall :0.6783566038423682\n",
            "\n",
            "confusion Matrix :\n",
            "[[28611  5482  4113  4233]\n",
            " [  457  2810  1138   393]\n",
            " [  259   387  2777   427]\n",
            " [  178   220   359  3018]]\n"
          ],
          "name": "stdout"
        }
      ]
    },
    {
      "cell_type": "code",
      "metadata": {
        "id": "Gi9n_RBbaGym",
        "colab_type": "code",
        "colab": {
          "base_uri": "https://localhost:8080/",
          "height": 68
        },
        "outputId": "ea4faa8b-b576-4da4-934d-941881d090bd"
      },
      "source": [
        "weights = 'imagenet'\n",
        "inputs = Input(shape=(128, 128, 3))\n",
        "\n",
        "base_model = VGG19(include_top=False, weights=weights, input_shape=(128, 128, 3))\n",
        "\n",
        "for layer in base_model.layers:\n",
        "    layer.trainable = False\n",
        "\n",
        "x = Conv2D(32, (5, 5), strides=(1, 1), padding='same', activation='relu', input_shape=(128, 128, 3))(inputs)\n",
        "x = MaxPooling2D(pool_size=(2, 2), strides=None, padding='valid', data_format=None)(x)\n",
        "\n",
        "x = Conv2D(64, (3, 3), strides=(1, 1), padding='same', activation='relu')(x)\n",
        "x = MaxPooling2D(pool_size=(2, 2), strides=None, padding='valid', data_format=None)(x)\n",
        "\n",
        "x = Conv2D(64, (3, 3), strides=(1, 1), padding='same', activation='relu')(x)\n",
        "x = MaxPooling2D(pool_size=(2, 2), strides=None, padding='valid', data_format=None)(x)\n",
        "\n",
        "x = Flatten()(x)\n",
        "\n",
        "base_resnet = base_model(inputs)\n",
        "base_resnet = Flatten()(base_resnet)\n",
        "\n",
        "concated_layers = Concatenate()([x, base_resnet])\n",
        "\n",
        "concated_layers = Dense(2024, activation='relu')(concated_layers)\n",
        "concated_layers = Dense(524, activation='relu')(concated_layers)\n",
        "concated_layers = Dense(124, activation='relu')(concated_layers)\n",
        "output = Dense(4, activation='relu')(concated_layers)\n",
        "\n",
        "model = Model(inputs=inputs, outputs=output)\n",
        "model.load_weights(\"/content/drive/My Drive/xview/baseline_model_vgg19/-saved-model-31-0.71.hdf5\")\n",
        "\n",
        "validation_gen = validation_generator(\"/content/sample_data/output/csv/train.csv\", \"/content/sample_data/output/process_images\")\n",
        "predictions = model.predict(validation_gen)\n",
        "\n",
        "testTrues = validation_gen.classes\n",
        "testPred = np.argmax(predictions, axis=-1)"
      ],
      "execution_count": 6,
      "outputs": [
        {
          "output_type": "stream",
          "text": [
            "Downloading data from https://storage.googleapis.com/tensorflow/keras-applications/vgg19/vgg19_weights_tf_dim_ordering_tf_kernels_notop.h5\n",
            "80142336/80134624 [==============================] - 0s 0us/step\n",
            "Found 54862 validated image filenames belonging to 4 classes.\n"
          ],
          "name": "stdout"
        }
      ]
    },
    {
      "cell_type": "code",
      "metadata": {
        "id": "kjs-81CLjhY7",
        "colab_type": "code",
        "colab": {
          "base_uri": "https://localhost:8080/",
          "height": 241
        },
        "outputId": "36dc72a3-4c85-4f4c-bc85-e050215f7b13"
      },
      "source": [
        "print(\"Evaluation of Vgg19 model\")\n",
        "f1_weighted = f1_score(testTrues, testPred, average='weighted')\n",
        "print(\"f1 score is: \"+str(f1_weighted))\n",
        "precision = precision_score(testTrues, testPred, average='weighted', labels=np.unique(test_pred))\n",
        "print(\"precision :\"+str(precision))\n",
        "recall =recall_score(testTrues, testPred, average='weighted') \n",
        "print(\"recall :\"+str(recall))\n",
        "# accuracy = accuracy_score(test_trues, test_pred)\n",
        "# # print(\"accuracy : \"+str(accuracy))\n",
        "confusionMatrix = confusion_matrix(testTrues, testPred)\n",
        "print(\"\\nconfusion Matrix :\")\n",
        "print(confusionMatrix)"
      ],
      "execution_count": 12,
      "outputs": [
        {
          "output_type": "stream",
          "text": [
            "Evaluation of Vgg19 model\n",
            "f1 score is: 0.7420575721666249\n",
            "precision :0.7603662853941788\n",
            "recall :0.7484050891327331\n",
            "\n",
            "confusion Matrix :\n",
            "[[35258     0  3286  3895]\n",
            " [ 2042     0  1693  1063]\n",
            " [  667     0  2703   480]\n",
            " [  356     0   321  3098]]\n"
          ],
          "name": "stdout"
        },
        {
          "output_type": "stream",
          "text": [
            "/usr/local/lib/python3.6/dist-packages/sklearn/metrics/_classification.py:1272: UndefinedMetricWarning: Precision is ill-defined and being set to 0.0 in labels with no predicted samples. Use `zero_division` parameter to control this behavior.\n",
            "  _warn_prf(average, modifier, msg_start, len(result))\n"
          ],
          "name": "stderr"
        }
      ]
    },
    {
      "cell_type": "code",
      "metadata": {
        "id": "2lq9uQNUTl2Z",
        "colab_type": "code",
        "colab": {
          "base_uri": "https://localhost:8080/",
          "height": 68
        },
        "outputId": "15702557-7424-47a7-cc3b-fe4b9b0cb700"
      },
      "source": [
        "weights = 'imagenet'\n",
        "inputs = Input(shape=(128, 128, 3))\n",
        "\n",
        "base_model = ResNet50(include_top=False, weights=weights, input_shape=(128, 128, 3))\n",
        "\n",
        "for layer in base_model.layers:\n",
        "    layer.trainable = False\n",
        "\n",
        "x = Conv2D(32, (5, 5), strides=(1, 1), padding='same', activation='relu', input_shape=(128, 128, 3))(inputs)\n",
        "x = MaxPooling2D(pool_size=(2, 2), strides=None, padding='valid', data_format=None)(x)\n",
        "\n",
        "x = Conv2D(64, (3, 3), strides=(1, 1), padding='same', activation='relu')(x)\n",
        "x = MaxPooling2D(pool_size=(2, 2), strides=None, padding='valid', data_format=None)(x)\n",
        "\n",
        "x = Conv2D(64, (3, 3), strides=(1, 1), padding='same', activation='relu')(x)\n",
        "x = MaxPooling2D(pool_size=(2, 2), strides=None, padding='valid', data_format=None)(x)\n",
        "\n",
        "x = Flatten()(x)\n",
        "\n",
        "base_resnet = base_model(inputs)\n",
        "base_resnet = Flatten()(base_resnet)\n",
        "\n",
        "concated_layers = Concatenate()([x, base_resnet])\n",
        "\n",
        "concated_layers = Dense(2024, activation='relu')(concated_layers)\n",
        "concated_layers = Dense(524, activation='relu')(concated_layers)\n",
        "concated_layers = Dense(124, activation='relu')(concated_layers)\n",
        "output = Dense(4, activation='relu')(concated_layers)\n",
        "#output = concated_layers\n",
        "model = Model(inputs=inputs, outputs=output)\n",
        "\n",
        "#model.load_weights(\"/content/drive/My Drive/xview/classification.hdf5\")\n",
        "model.load_weights(\"/content/drive/My Drive/xview/classification_model/-saved-model-29-0.71.hdf5\")\n",
        "validation_gen = validation_generator(\"/content/sample_data/output/csv/train.csv\", \"/content/sample_data/output/process_images\")\n",
        "predictions = model.predict(validation_gen)\n",
        "\n",
        "test_trues = validation_gen.classes\n",
        "test_pred = np.argmax(predictions, axis=-1)\n"
      ],
      "execution_count": 10,
      "outputs": [
        {
          "output_type": "stream",
          "text": [
            "Downloading data from https://storage.googleapis.com/tensorflow/keras-applications/resnet/resnet50_weights_tf_dim_ordering_tf_kernels_notop.h5\n",
            "94773248/94765736 [==============================] - 0s 0us/step\n",
            "Found 54862 validated image filenames belonging to 4 classes.\n"
          ],
          "name": "stdout"
        }
      ]
    },
    {
      "cell_type": "code",
      "metadata": {
        "id": "CPlfbuK5-Zao",
        "colab_type": "code",
        "colab": {
          "base_uri": "https://localhost:8080/",
          "height": 187
        },
        "outputId": "163f3547-16c9-4514-d0da-de76747f4fc5"
      },
      "source": [
        "print(\"Evaluation of ResNet50 architecture\")\n",
        "f1_weighted = f1_score(testTrues, testPred, average='weighted', labels=np.unique(testPred))\n",
        "print(\"f1 score is: \"+str(f1_weighted))\n",
        "\n",
        "precision = precision_score(testTrues, testPred, average='weighted', labels=np.unique(testPred))\n",
        "print(\"precision : \"+str(precision))\n",
        "recall =recall_score(testTrues, testPred, average='weighted') \n",
        "print(\"recall : \"+str(recall))\n",
        "accuracy = accuracy_score(testTrues, testPred)\n",
        "print(\"accuracy : \"+str(accuracy))\n",
        "\n",
        "print()\n",
        "confusionMatrix = confusion_matrix(testTrues, testPred)\n",
        "print(confusionMatrix)"
      ],
      "execution_count": 13,
      "outputs": [
        {
          "output_type": "stream",
          "text": [
            "Evaluation of ResNet50 architecture\n",
            "f1 score is: 0.813174387268404\n",
            "precision : 0.8332377586548305\n",
            "recall : 0.7484050891327331\n",
            "accuracy : 0.7484050891327331\n",
            "\n",
            "[[35258     0  3286  3895]\n",
            " [ 2042     0  1693  1063]\n",
            " [  667     0  2703   480]\n",
            " [  356     0   321  3098]]\n"
          ],
          "name": "stdout"
        }
      ]
    },
    {
      "cell_type": "code",
      "metadata": {
        "id": "Vj0P7XnP-1zm",
        "colab_type": "code",
        "colab": {}
      },
      "source": [
        ""
      ],
      "execution_count": null,
      "outputs": []
    }
  ]
}
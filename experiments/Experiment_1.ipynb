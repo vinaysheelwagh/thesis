{
  "nbformat": 4,
  "nbformat_minor": 0,
  "metadata": {
    "colab": {
      "name": "Experiment_1.ipynb",
      "provenance": [],
      "collapsed_sections": []
    },
    "kernelspec": {
      "name": "python3",
      "display_name": "Python 3"
    },
    "accelerator": "GPU"
  },
  "cells": [
    {
      "cell_type": "code",
      "metadata": {
        "id": "umgIZL-VGn-M",
        "colab_type": "code",
        "colab": {
          "base_uri": "https://localhost:8080/",
          "height": 125
        },
        "outputId": "28afae4d-a34f-471e-feb4-147869a8cf6c"
      },
      "source": [
        "from google.colab import drive\n",
        "drive.mount('/content/drive')"
      ],
      "execution_count": null,
      "outputs": [
        {
          "output_type": "stream",
          "text": [
            "Go to this URL in a browser: https://accounts.google.com/o/oauth2/auth?client_id=947318989803-6bn6qk8qdgf4n4g3pfee6491hc0brc4i.apps.googleusercontent.com&redirect_uri=urn%3aietf%3awg%3aoauth%3a2.0%3aoob&response_type=code&scope=email%20https%3a%2f%2fwww.googleapis.com%2fauth%2fdocs.test%20https%3a%2f%2fwww.googleapis.com%2fauth%2fdrive%20https%3a%2f%2fwww.googleapis.com%2fauth%2fdrive.photos.readonly%20https%3a%2f%2fwww.googleapis.com%2fauth%2fpeopleapi.readonly\n",
            "\n",
            "Enter your authorization code:\n",
            "··········\n",
            "Mounted at /content/drive\n"
          ],
          "name": "stdout"
        }
      ]
    },
    {
      "cell_type": "code",
      "metadata": {
        "id": "VFSjVkEmGpv2",
        "colab_type": "code",
        "colab": {
          "base_uri": "https://localhost:8080/",
          "height": 34
        },
        "outputId": "7b9a2ca7-407b-4dd9-c5d6-2925c4c39815"
      },
      "source": [
        "% cd /content/drive/My Drive/xview/spacenet/src/models\n",
        "import sys\n",
        "#sys.path.append(\"../../src/models\")\n",
        "\n",
        "from evaluate_model import eval_semantic_segmentation, calc_semantic_segmentation_confusion\n",
        "from segmentation import SegmentationModel as Model\n",
        "\n",
        "from os import path\n",
        "from PIL import Image\n",
        "import numpy as np\n",
        "from tqdm import tqdm\n",
        "\n",
        "import matplotlib.pyplot as plt\n",
        "%matplotlib inline"
      ],
      "execution_count": null,
      "outputs": [
        {
          "output_type": "stream",
          "text": [
            "/content/drive/My Drive/xview/spacenet/src/models\n"
          ],
          "name": "stdout"
        }
      ]
    },
    {
      "cell_type": "code",
      "metadata": {
        "id": "6IEN90qKGrzF",
        "colab_type": "code",
        "colab": {}
      },
      "source": [
        "# Load trained model\n",
        "# Modify the the paths based on your trained model location if needed.\n",
        "mean = np.load(\"/content/drive/My Drive/xview/test-data/spacenet_gt_test/dataset/mean.npy\")\n",
        "model = Model(\"/content/drive/My Drive/xview/localization.h5\", mean)"
      ],
      "execution_count": null,
      "outputs": []
    },
    {
      "cell_type": "code",
      "metadata": {
        "id": "fKjSVib3GzTF",
        "colab_type": "code",
        "colab": {}
      },
      "source": [
        "# Load test-set\n",
        "# Modify the the paths based on your data location if needed.\n",
        "with open( \"/content/drive/My Drive/xview/test-data/spacenet_gt_test/dataset/test.txt\") as f:\n",
        "    lines = f.readlines()\n",
        "\n",
        "test_set = []\n",
        "for line in lines:\n",
        "    line = line.rstrip()\n",
        "    test_set.append(line)"
      ],
      "execution_count": null,
      "outputs": []
    },
    {
      "cell_type": "code",
      "metadata": {
        "id": "Id7ZzMefG6hT",
        "colab_type": "code",
        "colab": {}
      },
      "source": [
        "batchsize=100\n",
        "\n",
        "enable_cupy = False # No CuPy (Use NumPy)\n",
        "n_epoch=2 # Only 2 epochs"
      ],
      "execution_count": null,
      "outputs": []
    },
    {
      "cell_type": "code",
      "metadata": {
        "id": "gtvqLxhMG83n",
        "colab_type": "code",
        "colab": {}
      },
      "source": [
        "import math\n",
        "\n",
        "def apply_augmentation(image):\n",
        "    image_in, crop = preprocess(image)\n",
        "\n",
        "    top, left, bottom, right = crop\n",
        "    image_in = image_in[:, top:bottom, left:right]\n",
        "    return image_in"
      ],
      "execution_count": null,
      "outputs": []
    },
    {
      "cell_type": "code",
      "metadata": {
        "id": "crYY3-D_G-0G",
        "colab_type": "code",
        "colab": {}
      },
      "source": [
        "import os\n",
        "from chainer import cuda, serializers, Variable\n",
        "def preprocess(image):\n",
        "    mean = np.load(os.path.join(\"/content/drive/My Drive/xview/test-data/spacenet_gt_test/dataset/\", \"mean.npy\"))\n",
        "    mean = mean[np.newaxis,np.newaxis,:]\n",
        "\n",
        "    h,w,_ = image.shape\n",
        "    h_padded = int(math.ceil(float(h)/16.0)*16)\n",
        "    w_padded = int(math.ceil(float(w)/16.0)*16)\n",
        "\n",
        "    pad_y1 = (h_padded - h)//2\n",
        "    pad_x1 = (w_padded- w)//2\n",
        "    pad_y2 = h_padded - h - pad_y1\n",
        "    pad_x2 = w_padded - w - pad_x1\n",
        "\n",
        "    image_padded = np.pad(image, ((pad_y1, pad_y2),(pad_x1, pad_x2),(0,0)),'symmetric')\n",
        "    image_in = (image_padded - mean)/255.0\n",
        "    image_in = image_in.transpose(2,0,1)\n",
        "    #image_in = image_in[np.newaxis, :, :, :]\n",
        "    #image_in = Variable(cuda.cupy.asarray(image_in, dtype=cuda.cupy.float32))\n",
        "\n",
        "    top, left = pad_y1, pad_x1\n",
        "    bottom, right = top+h, left+w\n",
        "    #print(image_in.shape)\n",
        "    return image_in, (top,left,bottom,right)"
      ],
      "execution_count": null,
      "outputs": []
    },
    {
      "cell_type": "code",
      "metadata": {
        "id": "un1LpRKiHBsU",
        "colab_type": "code",
        "colab": {
          "base_uri": "https://localhost:8080/",
          "height": 34
        },
        "outputId": "9cb89410-66cc-4761-93c8-4c0b1a6fbc16"
      },
      "source": [
        "#  Evaluate model\n",
        "\n",
        "# Modify the the paths based on your raster image and building label location.\n",
        "image_dir = '/content/drive/My Drive/xview/test-data/spacenet_gt_test/images'\n",
        "label_dir = '/content/drive/My Drive/xview/test-data/spacenet_gt_test/labels'\n",
        "\n",
        "gt_labels = []\n",
        "pred_labels = []\n",
        "unet_iou = []\n",
        "\n",
        "for test_data in tqdm(test_set):\n",
        "    image_path = path.join(image_dir, test_data)\n",
        "    label_path = path.join(label_dir, test_data)\n",
        "    \n",
        "    image = np.array(Image.open(image_path))\n",
        "    label = np.array(Image.open(label_path))\n",
        "    label = apply_augmentation(label)\n",
        "    label = label[0]\n",
        "    # Make gt_label, ground-truth building mask\n",
        "    h, w  = label.shape\n",
        "    gt_label = np.zeros(shape=[h, w], dtype=np.int32) # 0: background\n",
        "    gt_label[label > 0] = 1 # 1: \"building\"\n",
        "    \n",
        "    # Make pred_label, predicted building mask\n",
        "    score = model.apply_segmentation(image)\n",
        "    pred_label = np.argmax(score, axis=0)\n",
        "    \n",
        "    gt_labels.append(gt_label)\n",
        "    pred_labels.append(pred_label)"
      ],
      "execution_count": null,
      "outputs": [
        {
          "output_type": "stream",
          "text": [
            "100%|██████████| 752/752 [20:19<00:00,  1.62s/it]\n"
          ],
          "name": "stderr"
        }
      ]
    },
    {
      "cell_type": "code",
      "metadata": {
        "id": "ThHOhnWHrhPO",
        "colab_type": "code",
        "colab": {
          "base_uri": "https://localhost:8080/",
          "height": 54
        },
        "outputId": "382dd56b-dd29-4f1c-95ba-5b2c628bff5c"
      },
      "source": [
        "result = eval_semantic_segmentation(pred_labels, gt_labels)\n",
        "print(result)"
      ],
      "execution_count": null,
      "outputs": [
        {
          "output_type": "stream",
          "text": [
            "{'iou': array([0.98198353, 0.73683993]), 'miou': 0.8594117277168716, 'pixel_accuracy': 0.9828487317612831, 'class_accuracy': array([0.99349779, 0.81317661]), 'mean_class_accuracy': 0.9033372020879059}\n"
          ],
          "name": "stdout"
        }
      ]
    },
    {
      "cell_type": "code",
      "metadata": {
        "id": "V8Wq5TlZvW-E",
        "colab_type": "code",
        "colab": {
          "base_uri": "https://localhost:8080/",
          "height": 52
        },
        "outputId": "2056e3ba-d47e-4dd4-873e-b1d52cc26c24"
      },
      "source": [
        "result = eval_semantic_segmentation(pred_labels, gt_labels)\n",
        "building_class = 1\n",
        "print(\"IoU for class Building = \", result['iou'][building_class])\n",
        "print(\"Accuracy for class Building = \", result['class_accuracy'][building_class])"
      ],
      "execution_count": null,
      "outputs": [
        {
          "output_type": "stream",
          "text": [
            "IoU for class Building =  0.736839929000374\n",
            "Accuracy for class Building =  0.8131766129245268\n"
          ],
          "name": "stdout"
        }
      ]
    },
    {
      "cell_type": "code",
      "metadata": {
        "id": "UDwAlGbovaju",
        "colab_type": "code",
        "colab": {
          "base_uri": "https://localhost:8080/",
          "height": 158
        },
        "outputId": "99db3363-d3bb-40b2-f6d2-773716788339"
      },
      "source": [
        "confusion = calc_semantic_segmentation_confusion(pred_labels, gt_labels)\n",
        "print(\"confusion:\")\n",
        "print(confusion)\n",
        "\n",
        "tn = confusion[0][0]\n",
        "fp = confusion[0][1]\n",
        "tp = confusion[1][1]\n",
        "fn = confusion[1][0]\n",
        "\n",
        "precision = float(tp) / float(tp + fp)\n",
        "recall       = float(tp) / float(tp + fn)\n",
        "test_accuracy = float(tp + tn) / float(tp + tn + fp + fn)\n",
        "f1_score = 2*((precision * recall) / (precision + recall))\n",
        "print()\n",
        "print(\"accuracy: \", test_accuracy)\n",
        "print(\"precision: \", precision)\n",
        "print(\"recall: \", recall)\n",
        "print(\"f1-score: \",f1_score)"
      ],
      "execution_count": null,
      "outputs": [
        {
          "output_type": "stream",
          "text": [
            "confusion:\n",
            "[[737137332   4824390]\n",
            " [  8699885  37867545]]\n",
            "\n",
            "accuracy:  0.9828487317612831\n",
            "precision:  0.8869952837696394\n",
            "recall:  0.8131766129245268\n",
            "f1-score:  0.8484834056348037\n"
          ],
          "name": "stdout"
        }
      ]
    },
    {
      "cell_type": "code",
      "metadata": {
        "id": "Su2-Gw7_iSR2",
        "colab_type": "code",
        "colab": {}
      },
      "source": [
        "import csv\n",
        "import numpy as np\n",
        "\n",
        "yourArray = np.array(unet_iou)\n",
        "\n",
        "with open('/content/drive/My Drive/xview/test-data/spacenet_gt_test/dataset/outputPreviousIouFile.csv', 'w', newline='') as csvfile:\n",
        "    writer = csv.writer(csvfile, delimiter=',')\n",
        "    for row in range(0,yourArray.shape[0]):\n",
        "        myList = []\n",
        "        myList.append(yourArray[row])\n",
        "        writer.writerow(myList)"
      ],
      "execution_count": null,
      "outputs": []
    }
  ]
}